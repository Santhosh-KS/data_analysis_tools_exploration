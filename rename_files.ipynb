{
 "cells": [
  {
   "cell_type": "code",
   "execution_count": null,
   "metadata": {},
   "outputs": [],
   "source": [
    "import Foundation"
   ]
  },
  {
   "cell_type": "code",
   "execution_count": null,
   "metadata": {},
   "outputs": [],
   "source": [
    "extension String {\n",
    "    func fileExtension() -> String? {\n",
    "        let lstr = self.split(separator: \".\").map{String($0)}\n",
    "        guard lstr.count  > 1 else {\n",
    "            return nil\n",
    "        }\n",
    "        return lstr.last\n",
    "    }\n",
    "}"
   ]
  },
  {
   "cell_type": "code",
   "execution_count": null,
   "metadata": {},
   "outputs": [],
   "source": [
    "let mp = \"/home/l-8053/work/tado/\""
   ]
  },
  {
   "cell_type": "code",
   "execution_count": null,
   "metadata": {},
   "outputs": [],
   "source": [
    "let fm = FileManager.default.contentsOfDirectory(atPath: mp )"
   ]
  },
  {
   "cell_type": "code",
   "execution_count": null,
   "metadata": {},
   "outputs": [],
   "source": [
    "let nb = fm.filter{$0.fileExtension() == \"pdf\"}"
   ]
  },
  {
   "cell_type": "code",
   "execution_count": null,
   "metadata": {},
   "outputs": [],
   "source": [
    "let names = nb.map { (value: String) -> String in\n",
    "    let ln = value.split(separator: \" \").map{String($0)}\n",
    "    let lln = ln.map{ (v1: String) -> String in\n",
    "                     let nln = v1.split(separator: \"_\").map{String($0)}\n",
    "                     guard nln.count > 2 else {\n",
    "                         return String(nln.first!)\n",
    "                     }\n",
    "                     return nln[0..<2].joined(separator: \" \")\n",
    "                     \n",
    "                    }\n",
    "    guard lln.count > 1 else {\n",
    "        return String(lln.first!)\n",
    "    }\n",
    "    return lln[0..<2].joined(separator: \" \")\n",
    "}"
   ]
  },
  {
   "cell_type": "code",
   "execution_count": null,
   "metadata": {},
   "outputs": [],
   "source": [
    "let postFix = \"_Signed Amendment_50%.pdf\"\n",
    "// let nfn = names.map{ \"\\\"\" + $0 + postFix + \"\\\"\"}\n",
    "let nfn = names.map{ $0 + postFix }"
   ]
  },
  {
   "cell_type": "code",
   "execution_count": null,
   "metadata": {},
   "outputs": [],
   "source": [
    "let murl = URL.init(fileURLWithPath: mp+nfn[0])\n",
    "murl.path"
   ]
  },
  {
   "cell_type": "code",
   "execution_count": null,
   "metadata": {},
   "outputs": [],
   "source": [
    "let dstUrls = nfn.map{(value: String) -> URL in\n",
    "                    let p = \"/home/l-8053/work/tado/modified/\"\n",
    "                    return URL.init(fileURLWithPath: p+value )\n",
    "                   }"
   ]
  },
  {
   "cell_type": "code",
   "execution_count": null,
   "metadata": {},
   "outputs": [],
   "source": [
    "let srcUrls = nb.map{(value: String) -> URL in\n",
    "                    let p = \"/home/l-8053/work/tado/\"\n",
    "//                     return URL.init(fileURLWithPath: p+\"\\\"\"+value+\"\\\"\" )\n",
    "                    return URL.init(fileURLWithPath: p+value )\n",
    "                     \n",
    "                   }"
   ]
  },
  {
   "cell_type": "code",
   "execution_count": null,
   "metadata": {},
   "outputs": [],
   "source": [
    "extension FileManager {\n",
    "    func copyFile(_ srcUrl: URL, _ dstUrl: URL) {\n",
    "        print(\"copying \\(srcUrl) --> \\(dstUrl)\")\n",
    "        do {\n",
    "            try FileManager.default.copyItem(at: srcUrl, to: dstUrl)\n",
    "        }\n",
    "        catch {\n",
    "            print(\"Something went wrong\")\n",
    "        }\n",
    "    }\n",
    "}"
   ]
  },
  {
   "cell_type": "code",
   "execution_count": null,
   "metadata": {},
   "outputs": [],
   "source": [
    "srcUrls.count"
   ]
  },
  {
   "cell_type": "code",
   "execution_count": null,
   "metadata": {},
   "outputs": [],
   "source": [
    "dstUrls.count"
   ]
  },
  {
   "cell_type": "code",
   "execution_count": null,
   "metadata": {},
   "outputs": [],
   "source": [
    "for (index, value) in srcUrls.enumerated() {\n",
    "//     print(type(of:dstUrls[index]))\n",
    "    FileManager.default.copyFile(srcUrls[index], dstUrls[index] )\n",
    "//     FileManager.copyFile(srcUrls[index], dstUrls[index])\n",
    "}"
   ]
  },
  {
   "cell_type": "code",
   "execution_count": null,
   "metadata": {},
   "outputs": [],
   "source": []
  }
 ],
 "metadata": {
  "kernelspec": {
   "display_name": "Swift",
   "language": "swift",
   "name": "swift"
  },
  "language_info": {
   "file_extension": ".swift",
   "mimetype": "text/x-swift",
   "name": "swift",
   "version": ""
  }
 },
 "nbformat": 4,
 "nbformat_minor": 4
}
