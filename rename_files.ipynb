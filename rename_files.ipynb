{
 "cells": [
  {
   "cell_type": "code",
   "execution_count": 1,
   "metadata": {},
   "outputs": [],
   "source": [
    "import Foundation"
   ]
  },
  {
   "cell_type": "code",
   "execution_count": 2,
   "metadata": {},
   "outputs": [],
   "source": [
    "extension String {\n",
    "    func fileExtension() -> String? {\n",
    "        let lstr = self.split(separator: \".\").map{String($0)}\n",
    "        guard lstr.count  > 1 else {\n",
    "            return nil\n",
    "        }\n",
    "        return lstr.last\n",
    "    }\n",
    "}"
   ]
  },
  {
   "cell_type": "code",
   "execution_count": 3,
   "metadata": {},
   "outputs": [],
   "source": [
    "let mp = \"/home/l-8053/work/tado/\""
   ]
  },
  {
   "cell_type": "code",
   "execution_count": 4,
   "metadata": {},
   "outputs": [],
   "source": [
    "let fm = FileManager.default.contentsOfDirectory(atPath: mp )"
   ]
  },
  {
   "cell_type": "code",
   "execution_count": 5,
   "metadata": {},
   "outputs": [],
   "source": [
    "let nb = fm.filter{$0.fileExtension() == \"pdf\"}"
   ]
  },
  {
   "cell_type": "code",
   "execution_count": 6,
   "metadata": {},
   "outputs": [],
   "source": [
    "let names = nb.map { (value: String) -> String in\n",
    "    let ln = value.split(separator: \" \").map{String($0)}\n",
    "    let lln = ln.map{ (v1: String) -> String in\n",
    "                     let nln = v1.split(separator: \"_\").map{String($0)}\n",
    "                     guard nln.count > 2 else {\n",
    "                         return String(nln.first!)\n",
    "                     }\n",
    "                     return nln[0..<2].joined(separator: \" \")\n",
    "                     \n",
    "                    }\n",
    "    guard lln.count > 1 else {\n",
    "        return String(lln.first!)\n",
    "    }\n",
    "    return lln[0..<2].joined(separator: \" \")\n",
    "}"
   ]
  },
  {
   "cell_type": "code",
   "execution_count": 29,
   "metadata": {},
   "outputs": [],
   "source": [
    "let postFix = \"_Signed Amendment_50%.pdf\"\n",
    "// let nfn = names.map{ \"\\\"\" + $0 + postFix + \"\\\"\"}\n",
    "let nfn = names.map{ $0 + postFix }"
   ]
  },
  {
   "cell_type": "code",
   "execution_count": 30,
   "metadata": {},
   "outputs": [
    {
     "data": {
      "text/plain": [
       "\"/home/l-8053/work/tado/Ettore Fazio_Signed Amendment_50%.pdf\"\n"
      ]
     },
     "execution_count": 30,
     "metadata": {},
     "output_type": "execute_result"
    }
   ],
   "source": [
    "let murl = URL.init(fileURLWithPath: mp+nfn[0])\n",
    "murl.path"
   ]
  },
  {
   "cell_type": "code",
   "execution_count": 43,
   "metadata": {},
   "outputs": [],
   "source": [
    "let dstUrls = nfn.map{(value: String) -> URL in\n",
    "                    let p = \"/home/l-8053/work/tado/modified/\"\n",
    "                    return URL.init(fileURLWithPath: p+value )\n",
    "                   }"
   ]
  },
  {
   "cell_type": "code",
   "execution_count": 32,
   "metadata": {},
   "outputs": [],
   "source": [
    "let srcUrls = nb.map{(value: String) -> URL in\n",
    "                    let p = \"/home/l-8053/work/tado/\"\n",
    "//                     return URL.init(fileURLWithPath: p+\"\\\"\"+value+\"\\\"\" )\n",
    "                    return URL.init(fileURLWithPath: p+value )\n",
    "                     \n",
    "                   }"
   ]
  },
  {
   "cell_type": "code",
   "execution_count": 39,
   "metadata": {},
   "outputs": [],
   "source": [
    "extension FileManager {\n",
    "    func copyFile(_ srcUrl: URL, _ dstUrl: URL) {\n",
    "        print(\"copying \\(srcUrl) --> \\(dstUrl)\")\n",
    "        do {\n",
    "            try FileManager.default.copyItem(at: srcUrl, to: dstUrl)\n",
    "        }\n",
    "        catch {\n",
    "            print(\"Something went wrong\")\n",
    "        }\n",
    "    }\n",
    "}"
   ]
  },
  {
   "cell_type": "code",
   "execution_count": 40,
   "metadata": {},
   "outputs": [
    {
     "data": {
      "text/plain": [
       "104\n"
      ]
     },
     "execution_count": 40,
     "metadata": {},
     "output_type": "execute_result"
    }
   ],
   "source": [
    "srcUrls.count"
   ]
  },
  {
   "cell_type": "code",
   "execution_count": 41,
   "metadata": {},
   "outputs": [
    {
     "data": {
      "text/plain": [
       "104\n"
      ]
     },
     "execution_count": 41,
     "metadata": {},
     "output_type": "execute_result"
    }
   ],
   "source": [
    "dstUrls.count"
   ]
  },
  {
   "cell_type": "code",
   "execution_count": 45,
   "metadata": {},
   "outputs": [
    {
     "name": "stdout",
     "output_type": "stream",
     "text": [
      "copying file:///home/l-8053/work/tado/Ettore%20Fazio%20Amendment%20Agreement%20on%20the%20introduction%20of%20short-time%20work_SIGNED.pdf --> file:///home/l-8053/work/tado/modified/Ettore%20Fazio_Signed%20Amendment_50%25.pdf\n",
      "copying file:///home/l-8053/work/tado/Ignacio%20Ampeuro_SIgned.pdf --> file:///home/l-8053/work/tado/modified/Ignacio%20Ampeuro_Signed%20Amendment_50%25.pdf\n",
      "copying file:///home/l-8053/work/tado/Maarten%20Lenior_Signed.pdf --> file:///home/l-8053/work/tado/modified/Maarten%20Lenior_Signed%20Amendment_50%25.pdf\n",
      "copying file:///home/l-8053/work/tado/Sophia%20Neubauer_Amendment%2050_%20PF.pdf --> file:///home/l-8053/work/tado/modified/Sophia%20Neubauer_Signed%20Amendment_50%25.pdf\n",
      "copying file:///home/l-8053/work/tado/Jhinneska_Signed.pdf --> file:///home/l-8053/work/tado/modified/Jhinneska_Signed%20Amendment_50%25.pdf\n",
      "copying file:///home/l-8053/work/tado/Christoph%20Seidl%20Amendment%20Agreement%20on%20the%20introduction%20of%20short-time%20work_SIGNED.pdf --> file:///home/l-8053/work/tado/modified/Christoph%20Seidl_Signed%20Amendment_50%25.pdf\n",
      "copying file:///home/l-8053/work/tado/Gautier%20Seidel%20Amendment%20agreement%20signed.pdf --> file:///home/l-8053/work/tado/modified/Gautier%20Seidel_Signed%20Amendment_50%25.pdf\n",
      "copying file:///home/l-8053/work/tado/Maciej%20Piekarski_Signed.pdf --> file:///home/l-8053/work/tado/modified/Maciej%20Piekarski_Signed%20Amendment_50%25.pdf\n",
      "copying file:///home/l-8053/work/tado/Lucas%20Felix%20de%20Sousa_Signed.pdf --> file:///home/l-8053/work/tado/modified/Lucas%20Felix_Signed%20Amendment_50%25.pdf\n",
      "copying file:///home/l-8053/work/tado/Lakshmi%20Lazanas_SIgned.pdf --> file:///home/l-8053/work/tado/modified/Lakshmi%20Lazanas_Signed%20Amendment_50%25.pdf\n",
      "copying file:///home/l-8053/work/tado/Marie%20Milan_Signed.pdf --> file:///home/l-8053/work/tado/modified/Marie%20Milan_Signed%20Amendment_50%25.pdf\n",
      "copying file:///home/l-8053/work/tado/Stefan%20Smarzly_50_A%20mendment.signed.pdf --> file:///home/l-8053/work/tado/modified/Stefan%20Smarzly%2050_Signed%20Amendment_50%25.pdf\n",
      "copying file:///home/l-8053/work/tado/Christoph%20Seidl%20Email%20Amendment%20Agreement%20on%20the%20introduction%20of%20short-time%20work_SIGNED.pdf --> file:///home/l-8053/work/tado/modified/Christoph%20Seidl_Signed%20Amendment_50%25.pdf\n",
      "copying file:///home/l-8053/work/tado/Lilia_Baoough_Signed.pdf --> file:///home/l-8053/work/tado/modified/Lilia%20Baoough_Signed%20Amendment_50%25.pdf\n",
      "copying file:///home/l-8053/work/tado/Kelyane%20Walter%20Goncalves.pdf --> file:///home/l-8053/work/tado/modified/Kelyane%20Walter_Signed%20Amendment_50%25.pdf\n",
      "copying file:///home/l-8053/work/tado/Ronnie%20Esparza%20Mera_50_%20Amendment_.pdf --> file:///home/l-8053/work/tado/modified/Ronnie%20Esparza_Signed%20Amendment_50%25.pdf\n",
      "copying file:///home/l-8053/work/tado/Marzia%20De%20Lorenzo_Signed.pdf --> file:///home/l-8053/work/tado/modified/Marzia%20De_Signed%20Amendment_50%25.pdf\n",
      "copying file:///home/l-8053/work/tado/Jakob%20Moll_Signed.pdf --> file:///home/l-8053/work/tado/modified/Jakob%20Moll_Signed%20Amendment_50%25.pdf\n",
      "copying file:///home/l-8053/work/tado/Katharina%20Gomse_Signed.pdf --> file:///home/l-8053/work/tado/modified/Katharina%20Gomse_Signed%20Amendment_50%25.pdf\n",
      "copying file:///home/l-8053/work/tado/Kristina%20Knobel_Signed.pdf --> file:///home/l-8053/work/tado/modified/Kristina%20Knobel_Signed%20Amendment_50%25.pdf\n",
      "copying file:///home/l-8053/work/tado/Joseph_Rixom_SIgned.pdf --> file:///home/l-8053/work/tado/modified/Joseph%20Rixom_Signed%20Amendment_50%25.pdf\n",
      "copying file:///home/l-8053/work/tado/Ritske%20Sjoerd%20Riemersma_50_Amendment%20agreement%20short.pdf --> file:///home/l-8053/work/tado/modified/Ritske%20Sjoerd_Signed%20Amendment_50%25.pdf\n",
      "copying file:///home/l-8053/work/tado/Nicky_Shiffa_50__Amendment.pdf --> file:///home/l-8053/work/tado/modified/Nicky%20Shiffa_Signed%20Amendment_50%25.pdf\n",
      "copying file:///home/l-8053/work/tado/Marcel_Hrneck_Signed.pdf --> file:///home/l-8053/work/tado/modified/Marcel%20Hrneck_Signed%20Amendment_50%25.pdf\n",
      "copying file:///home/l-8053/work/tado/Mariela%20Sassi_SIgned.pdf --> file:///home/l-8053/work/tado/modified/Mariela%20Sassi_Signed%20Amendment_50%25.pdf\n",
      "copying file:///home/l-8053/work/tado/Stefanie%20Beiersdorf_Amendment%20Agreement%20on%20the%20introduction%20of%20short-time%20work.pdf --> file:///home/l-8053/work/tado/modified/Stefanie%20Beiersdorf_Signed%20Amendment_50%25.pdf\n",
      "copying file:///home/l-8053/work/tado/Tuan%20Anh%20Le_50__Amendment%20agreement%20short%20time%20work.tadoSIGNED%20(1).pdf --> file:///home/l-8053/work/tado/modified/Tuan%20Anh_Signed%20Amendment_50%25.pdf\n",
      "copying file:///home/l-8053/work/tado/H%C3%A9ctor%20Gonz%C3%A1lez_Signed.pdf --> file:///home/l-8053/work/tado/modified/H%C3%A9ctor%20Gonz%C3%A1lez_Signed%20Amendment_50%25.pdf\n",
      "copying file:///home/l-8053/work/tado/Federico%20Valensise%20tado%C2%B0%20Mail%20-%20Kurzarbeit%20-%20Amendment.pdf --> file:///home/l-8053/work/tado/modified/Federico%20Valensise_Signed%20Amendment_50%25.pdf\n",
      "copying file:///home/l-8053/work/tado/Kilian%20Studtmann_Signed.pdf --> file:///home/l-8053/work/tado/modified/Kilian%20Studtmann_Signed%20Amendment_50%25.pdf\n",
      "copying file:///home/l-8053/work/tado/Melina%20von%20Hoyningen%20Huene%2050_%20Amendment.pdf --> file:///home/l-8053/work/tado/modified/Melina%20von_Signed%20Amendment_50%25.pdf\n",
      "copying file:///home/l-8053/work/tado/Benedikt%20Blum%20Amendment%20Agreement%20on%20the%20introduction%20of%20short-time%20work_SIGNED.pdf --> file:///home/l-8053/work/tado/modified/Benedikt%20Blum_Signed%20Amendment_50%25.pdf\n",
      "copying file:///home/l-8053/work/tado/Moritz%20K%C3%B6rber_Amendment%20Agreement%20on%20the%20introduction%20of%20short-time%20work.pdf --> file:///home/l-8053/work/tado/modified/Moritz%20K%C3%B6rber_Signed%20Amendment_50%25.pdf\n",
      "copying file:///home/l-8053/work/tado/GeertPaelinck_Amendment%20Agreement%20on%20the%20introduction%20of%20short-time%20work_SIGNED.pdf --> file:///home/l-8053/work/tado/modified/GeertPaelinck%20Agreement_Signed%20Amendment_50%25.pdf\n",
      "copying file:///home/l-8053/work/tado/Barbra%20Schuett%20Amendment%20Agreement%20on%20the%20introduction%20of%20short-time%20work_SIGNED.pdf --> file:///home/l-8053/work/tado/modified/Barbra%20Schuett_Signed%20Amendment_50%25.pdf\n",
      "copying file:///home/l-8053/work/tado/Tobias%20Schneider%20Amendment.pdf --> file:///home/l-8053/work/tado/modified/Tobias%20Schneider_Signed%20Amendment_50%25.pdf\n",
      "copying file:///home/l-8053/work/tado/Hauke%20Haller_Signed.pdf --> file:///home/l-8053/work/tado/modified/Hauke%20Haller_Signed%20Amendment_50%25.pdf\n",
      "copying file:///home/l-8053/work/tado/Maximilian%20Lacher_signed_Amendment%20agreement%20short%20time%20work.pdf --> file:///home/l-8053/work/tado/modified/Maximilian%20Lacher%20signed_Signed%20Amendment_50%25.pdf\n",
      "copying file:///home/l-8053/work/tado/Anton%20Weber%20Amendment%20Agreement%20on%20the%20introduction%20of%20short-time%20work_SIGNED.pdf --> file:///home/l-8053/work/tado/modified/Anton%20Weber_Signed%20Amendment_50%25.pdf\n",
      "copying file:///home/l-8053/work/tado/Paula_Laborda_50__Amendment%20agreement%20short%20time%20work.tadoSIGNED.pdf --> file:///home/l-8053/work/tado/modified/Paula%20Laborda%20agreement_Signed%20Amendment_50%25.pdf\n",
      "copying file:///home/l-8053/work/tado/Vincenzo%20Panico%2050_%20Amendment.pdf --> file:///home/l-8053/work/tado/modified/Vincenzo%20Panico_Signed%20Amendment_50%25.pdf\n",
      "copying file:///home/l-8053/work/tado/Chamila.Perera.Amendment%20agreement.shorttimework.pdf --> file:///home/l-8053/work/tado/modified/Chamila.Perera.Amendment%20agreement.shorttimework.pdf_Signed%20Amendment_50%25.pdf\n",
      "copying file:///home/l-8053/work/tado/Kaveh%20Sarbandi_Signed.pdf --> file:///home/l-8053/work/tado/modified/Kaveh%20Sarbandi_Signed%20Amendment_50%25.pdf\n",
      "copying file:///home/l-8053/work/tado/Madi%20Yessirkepov_Signed.pdf --> file:///home/l-8053/work/tado/modified/Madi%20Yessirkepov_Signed%20Amendment_50%25.pdf\n",
      "copying file:///home/l-8053/work/tado/Daria%20Samkova%20Amendment%20Agreement%20on%20the%20introduction%20of%20short-time%20work_SIGNED.pdf.pdf --> file:///home/l-8053/work/tado/modified/Daria%20Samkova_Signed%20Amendment_50%25.pdf\n",
      "copying file:///home/l-8053/work/tado/Richard%20Brace%20Amendment%20Agreement%20(1).pdf --> file:///home/l-8053/work/tado/modified/Richard%20Brace_Signed%20Amendment_50%25.pdf\n",
      "copying file:///home/l-8053/work/tado/Shailender%20Paul%20Singh_Amendment%20agreement%20short%20time%20work.tadoSIGNED.pdf --> file:///home/l-8053/work/tado/modified/Shailender%20Paul_Signed%20Amendment_50%25.pdf\n",
      "copying file:///home/l-8053/work/tado/Benjamin%20Lett%2080__Signed.pdf --> file:///home/l-8053/work/tado/modified/Benjamin%20Lett_Signed%20Amendment_50%25.pdf\n",
      "copying file:///home/l-8053/work/tado/Rebekka%20Tillack%2050_%20Amendment.pdf --> file:///home/l-8053/work/tado/modified/Rebekka%20Tillack_Signed%20Amendment_50%25.pdf\n",
      "copying file:///home/l-8053/work/tado/Ankit%20Singh%20Amendment%20Agreement%20on%20the%20introduction%20of%20short-time%20work_SIGNED_with_email.pdf --> file:///home/l-8053/work/tado/modified/Ankit%20Singh_Signed%20Amendment_50%25.pdf\n",
      "copying file:///home/l-8053/work/tado/Tobias%20Aschenbrenner%2050_%20Amendment.pdf --> file:///home/l-8053/work/tado/modified/Tobias%20Aschenbrenner_Signed%20Amendment_50%25.pdf\n",
      "copying file:///home/l-8053/work/tado/Benedict%20Maerkl%20Amendment%20Agreement%20on%20the%20introduction%20of%20short-time%20work_SIGNED.pdf --> file:///home/l-8053/work/tado/modified/Benedict%20Maerkl_Signed%20Amendment_50%25.pdf\n",
      "copying file:///home/l-8053/work/tado/Dennis%20Frommknecht%20Amendment%20Agreement%20on%20the%20introduction%20of%20short-time%20work_SIGNED.pdf --> file:///home/l-8053/work/tado/modified/Dennis%20Frommknecht_Signed%20Amendment_50%25.pdf\n",
      "copying file:///home/l-8053/work/tado/Manuel%20Moser_Signed.pdf --> file:///home/l-8053/work/tado/modified/Manuel%20Moser_Signed%20Amendment_50%25.pdf\n",
      "copying file:///home/l-8053/work/tado/Lara%20Cobacho_Signed.pdf --> file:///home/l-8053/work/tado/modified/Lara%20Cobacho_Signed%20Amendment_50%25.pdf\n",
      "copying file:///home/l-8053/work/tado/Barbara%20Blanchard%20Astier%20Amendment%20Agreement%20on%20the%20introduction%20of%20short-time%20work_SIGNED.pdf --> file:///home/l-8053/work/tado/modified/Barbara%20Blanchard_Signed%20Amendment_50%25.pdf\n",
      "copying file:///home/l-8053/work/tado/Magdalena_Signed.pdf --> file:///home/l-8053/work/tado/modified/Magdalena_Signed%20Amendment_50%25.pdf\n",
      "copying file:///home/l-8053/work/tado/Luka%20Giorgadze_SIgned.pdf --> file:///home/l-8053/work/tado/modified/Luka%20Giorgadze_Signed%20Amendment_50%25.pdf\n",
      "copying file:///home/l-8053/work/tado/Lukas%20Heim_Signed.pdf --> file:///home/l-8053/work/tado/modified/Lukas%20Heim_Signed%20Amendment_50%25.pdf\n",
      "copying file:///home/l-8053/work/tado/Marl%C3%A8ne%20Th%C3%A9berge_SIgned.pdf --> file:///home/l-8053/work/tado/modified/Marl%C3%A8ne%20Th%C3%A9berge_Signed%20Amendment_50%25.pdf\n",
      "copying file:///home/l-8053/work/tado/Sebastian%20Schneider_Amendment%20Agreement%20on%20the%20introduction%20of%20short-time%20work_SIGNED.pdf --> file:///home/l-8053/work/tado/modified/Sebastian%20Schneider_Signed%20Amendment_50%25.pdf\n",
      "copying file:///home/l-8053/work/tado/Luca%20Visani_Signed.pdf --> file:///home/l-8053/work/tado/modified/Luca%20Visani_Signed%20Amendment_50%25.pdf\n",
      "copying file:///home/l-8053/work/tado/Yung%20Shen%20Lew%2050_%20Amendment.pdf --> file:///home/l-8053/work/tado/modified/Yung%20Shen_Signed%20Amendment_50%25.pdf\n",
      "copying file:///home/l-8053/work/tado/Claudia%20Bajurin%20Amendment%20Agreement%20on%20the%20introduction%20of%20short-time%20work_SIGNED.pdf --> file:///home/l-8053/work/tado/modified/Claudia%20Bajurin_Signed%20Amendment_50%25.pdf\n",
      "copying file:///home/l-8053/work/tado/TimoStreckfuss-Amendment.pdf --> file:///home/l-8053/work/tado/modified/TimoStreckfuss-Amendment.pdf_Signed%20Amendment_50%25.pdf\n",
      "copying file:///home/l-8053/work/tado/Federico%20Valensise%20Amendment%20Agreement%20on%20the%20introduction%20of%20short-time%20work_SIGNED.pdf --> file:///home/l-8053/work/tado/modified/Federico%20Valensise_Signed%20Amendment_50%25.pdf\n",
      "copying file:///home/l-8053/work/tado/Pedro_Barbieri%2050_%20Amendment.pdf --> file:///home/l-8053/work/tado/modified/Pedro%2050_Signed%20Amendment_50%25.pdf\n",
      "copying file:///home/l-8053/work/tado/Kelvin%20Elton%20Nogueira%20da%20Silva_Signed.pdf --> file:///home/l-8053/work/tado/modified/Kelvin%20Elton_Signed%20Amendment_50%25.pdf\n",
      "copying file:///home/l-8053/work/tado/Britta%20Schnabel%20Kurzarbeit%20Amendment%20Signed.pdf --> file:///home/l-8053/work/tado/modified/Britta%20Schnabel_Signed%20Amendment_50%25.pdf\n",
      "copying file:///home/l-8053/work/tado/Maximilian%20Graf%2050_%20Amendment.pdf --> file:///home/l-8053/work/tado/modified/Maximilian%20Graf_Signed%20Amendment_50%25.pdf\n",
      "copying file:///home/l-8053/work/tado/Fabrizio%20Pirazzini%20Amendment%20Agreement%20on%20the%20introduction%20of%20short-time%20work_SIGNED.pdf --> file:///home/l-8053/work/tado/modified/Fabrizio%20Pirazzini_Signed%20Amendment_50%25.pdf\n",
      "copying file:///home/l-8053/work/tado/Michael%20Niedermayr%2050__Amendment%20agreement%20short%20time%20work.tadoSIGNED_Final.pdf --> file:///home/l-8053/work/tado/modified/Michael%20Niedermayr_Signed%20Amendment_50%25.pdf\n",
      "copying file:///home/l-8053/work/tado/Yannick_Podschlapp_50_%20Amendment_.pdf --> file:///home/l-8053/work/tado/modified/Yannick%20Podschlapp%20Amendment_Signed%20Amendment_50%25.pdf\n",
      "copying file:///home/l-8053/work/tado/Asma%20Abidi%20Amendment%20Agreement%20on%20the%20introduction%20of%20short-time%20work_SIGNED.pdf --> file:///home/l-8053/work/tado/modified/Asma%20Abidi_Signed%20Amendment_50%25.pdf\n",
      "copying file:///home/l-8053/work/tado/Maximilian%20St%C3%B6ckle%2050__Amendment%20agreement%20short%20time%20work.tadoSIGNED%20(1).pdf --> file:///home/l-8053/work/tado/modified/Maximilian%20St%C3%B6ckle_Signed%20Amendment_50%25.pdf\n",
      "copying file:///home/l-8053/work/tado/Sarah_Abdelrazak_50__Amendment%20agreement%20short%20time%20work.tadoSIGNED%20(1).pdf --> file:///home/l-8053/work/tado/modified/Sarah%20Abdelrazak%20agreement_Signed%20Amendment_50%25.pdf\n",
      "copying file:///home/l-8053/work/tado/Denis%20Vasilkovskii%20Amendment%20Agreement%20on%20the%20introduction%20of%20short-time%20work_SIGNED.pdf --> file:///home/l-8053/work/tado/modified/Denis%20Vasilkovskii_Signed%20Amendment_50%25.pdf\n",
      "copying file:///home/l-8053/work/tado/Sabrina%20B%C3%BClig%2050_%20Amendment.pdf --> file:///home/l-8053/work/tado/modified/Sabrina%20B%C3%BClig_Signed%20Amendment_50%25.pdf\n",
      "copying file:///home/l-8053/work/tado/Jurian%20Jansen%20van%20Gaalen_Signed.pdf --> file:///home/l-8053/work/tado/modified/Jurian%20Jansen_Signed%20Amendment_50%25.pdf\n",
      "copying file:///home/l-8053/work/tado/Damian%20Kubaczka%20Amendment%20Agreement%20on%20the%20introduction%20of%20short-time%20work_SIGNED.pdf --> file:///home/l-8053/work/tado/modified/Damian%20Kubaczka_Signed%20Amendment_50%25.pdf\n",
      "copying file:///home/l-8053/work/tado/Chamila%20Perera%20Amendment%20Agreement%20on%20the%20introduction%20of%20short-time%20work_SIGNED.pdf --> file:///home/l-8053/work/tado/modified/Chamila%20Perera_Signed%20Amendment_50%25.pdf\n",
      "copying file:///home/l-8053/work/tado/Dean%20Lillywhite%20Amendment%20Agreement%20on%20the%20introduction%20of%20short-time%20work_SIGNED.pdf --> file:///home/l-8053/work/tado/modified/Dean%20Lillywhite_Signed%20Amendment_50%25.pdf\n",
      "copying file:///home/l-8053/work/tado/Sweta_Maskikar_50_%20Amendment.pdf --> file:///home/l-8053/work/tado/modified/Sweta%20Maskikar%20Amendment.pdf_Signed%20Amendment_50%25.pdf\n",
      "copying file:///home/l-8053/work/tado/Elena%20Marini%20Amendment%20Agreement%20on%20the%20introduction%20of%20short-time%20work_SIGNED.pdf --> file:///home/l-8053/work/tado/modified/Elena%20Marini_Signed%20Amendment_50%25.pdf\n",
      "copying file:///home/l-8053/work/tado/Carolina%20Fernandez%20Castiblanco%20Amendment%20Agreement%20on%20the%20introduction%20of%20short-time%20work_SIGNED.pdf --> file:///home/l-8053/work/tado/modified/Carolina%20Fernandez_Signed%20Amendment_50%25.pdf\n",
      "copying file:///home/l-8053/work/tado/Sandra%20Wu%CC%88rtinger_50__Amendment%20agreement%20short%20time%20work_signed.pdf --> file:///home/l-8053/work/tado/modified/Sandra%20Wu%CC%88rtinger%2050_Signed%20Amendment_50%25.pdf\n",
      "copying file:///home/l-8053/work/tado/Jakub%20Denk_Signed.pdf --> file:///home/l-8053/work/tado/modified/Jakub%20Denk_Signed%20Amendment_50%25.pdf\n",
      "copying file:///home/l-8053/work/tado/Pierre%20Guillet_50__Amendment%20agreement%20short%20time%20work.tadoSIGNED_PG%20SIGNED.pdf --> file:///home/l-8053/work/tado/modified/Pierre%20Guillet%2050_Signed%20Amendment_50%25.pdf\n",
      "copying file:///home/l-8053/work/tado/Jonas%20Huber_Signed.pdf --> file:///home/l-8053/work/tado/modified/Jonas%20Huber_Signed%20Amendment_50%25.pdf\n",
      "copying file:///home/l-8053/work/tado/Anton%20Bogomolov%20Amendment%20Agreement%20on%20the%20introduction%20of%20short-time%20work_SIGNED.pdf --> file:///home/l-8053/work/tado/modified/Anton%20Bogomolov_Signed%20Amendment_50%25.pdf\n",
      "copying file:///home/l-8053/work/tado/Dmitri%20Soudeikine%20Amendment%20Agreement%20on%20the%20introduction%20of%20short-time%20work_SIGNED.pdf --> file:///home/l-8053/work/tado/modified/Dmitri%20Soudeikine_Signed%20Amendment_50%25.pdf\n",
      "copying file:///home/l-8053/work/tado/Yuhui%20Xiong%2050_%20AmendmentKurzarbeit.pdf --> file:///home/l-8053/work/tado/modified/Yuhui%20Xiong_Signed%20Amendment_50%25.pdf\n",
      "copying file:///home/l-8053/work/tado/Monica%20Voltolina_50__Amendment%20agreement%20short%20time%20work.tadoSIGNED%20(1).pdf --> file:///home/l-8053/work/tado/modified/Monica%20Voltolina%2050_Signed%20Amendment_50%25.pdf\n",
      "copying file:///home/l-8053/work/tado/Muhora%20Wuyckens%2050_%20Amendment.pdf --> file:///home/l-8053/work/tado/modified/Muhora%20Wuyckens_Signed%20Amendment_50%25.pdf\n",
      "copying file:///home/l-8053/work/tado/Guillermo%20Fernandez-Cerezo_Signed.pdf --> file:///home/l-8053/work/tado/modified/Guillermo%20Fernandez-Cerezo_Signed%20Amendment_50%25.pdf\n",
      "copying file:///home/l-8053/work/tado/Nguyen%20Minh%20Thuy_50__Amendment%20agreement%20short%20time%20work.tadoSIGNED%20(1).pdf --> file:///home/l-8053/work/tado/modified/Nguyen%20Minh_Signed%20Amendment_50%25.pdf\n",
      "copying file:///home/l-8053/work/tado/Hanna_Klimpke_SIgned.pdf --> file:///home/l-8053/work/tado/modified/Hanna%20Klimpke_Signed%20Amendment_50%25.pdf\n",
      "copying file:///home/l-8053/work/tado/Marcel%20Carrato_Signed.pdf --> file:///home/l-8053/work/tado/modified/Marcel%20Carrato_Signed%20Amendment_50%25.pdf\n",
      "copying file:///home/l-8053/work/tado/Ignacio%20Ampuero_Signed.pdf --> file:///home/l-8053/work/tado/modified/Ignacio%20Ampuero_Signed%20Amendment_50%25.pdf\n",
      "copying file:///home/l-8053/work/tado/Rob%20Gordijn%2050_%20Amendment.pdf --> file:///home/l-8053/work/tado/modified/Rob%20Gordijn_Signed%20Amendment_50%25.pdf\n",
      "copying file:///home/l-8053/work/tado/Kai%20Yang%20Tee_Signed.pdf --> file:///home/l-8053/work/tado/modified/Kai%20Yang_Signed%20Amendment_50%25.pdf\n",
      "copying file:///home/l-8053/work/tado/Stefanie%20Sedlak%20Amendment%2050_.pdf --> file:///home/l-8053/work/tado/modified/Stefanie%20Sedlak_Signed%20Amendment_50%25.pdf\n",
      "copying file:///home/l-8053/work/tado/Tanja%20Steuer_50__Amendment%20agreement%20short%20time%20work.tadoSIGNED%20(1).pdf --> file:///home/l-8053/work/tado/modified/Tanja%20Steuer%2050_Signed%20Amendment_50%25.pdf\n",
      "copying file:///home/l-8053/work/tado/Samuel%20Berwanger_50__Amendment%20agreement%20short%20time%20work.tadoSIGNED%20(1).pdf --> file:///home/l-8053/work/tado/modified/Samuel%20Berwanger%2050_Signed%20Amendment_50%25.pdf\n"
     ]
    }
   ],
   "source": [
    "for (index, value) in srcUrls.enumerated() {\n",
    "//     print(type(of:dstUrls[index]))\n",
    "    FileManager.default.copyFile(srcUrls[index], dstUrls[index] )\n",
    "//     FileManager.copyFile(srcUrls[index], dstUrls[index])\n",
    "}"
   ]
  },
  {
   "cell_type": "code",
   "execution_count": null,
   "metadata": {},
   "outputs": [],
   "source": []
  }
 ],
 "metadata": {
  "kernelspec": {
   "display_name": "Swift",
   "language": "swift",
   "name": "swift"
  },
  "language_info": {
   "file_extension": ".swift",
   "mimetype": "text/x-swift",
   "name": "swift",
   "version": ""
  }
 },
 "nbformat": 4,
 "nbformat_minor": 4
}
