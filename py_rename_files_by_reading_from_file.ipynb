{
 "cells": [
  {
   "cell_type": "code",
   "execution_count": 1,
   "metadata": {},
   "outputs": [],
   "source": [
    "def ReadFile(fl:str, path:str):\n",
    "    with open(fl) as f:\n",
    "        content = f.readlines()\n",
    "        # you may also want to remove whitespace characters like `\\n` at the end of each line\n",
    "        content = [path+'\"'+x.strip()+'\"' for x in content] \n",
    "    return content"
   ]
  },
  {
   "cell_type": "code",
   "execution_count": 9,
   "metadata": {},
   "outputs": [],
   "source": [
    "path = \"/home/l-8053/work/tado/\"\n",
    "path = \"/home/l-8053/Downloads/snow/First_Name_Last_Name_50_May/\"\n",
    "filename = \"rename.txt\"\n",
    "rename = ReadFile(path+filename,path+\"renamed/\")"
   ]
  },
  {
   "cell_type": "code",
   "execution_count": 10,
   "metadata": {},
   "outputs": [
    {
     "data": {
      "text/plain": [
       "['/home/l-8053/Downloads/snow/First_Name_Last_Name_50_May/renamed/\"Personio_tado_attendance_2020-05-20 (10).xlsx\"',\n",
       " '/home/l-8053/Downloads/snow/First_Name_Last_Name_50_May/renamed/\"Personio_tado_attendance_2020-05-20 (11).xlsx\"',\n",
       " '/home/l-8053/Downloads/snow/First_Name_Last_Name_50_May/renamed/\"Personio_tado_attendance_2020-05-20 (12).xlsx\"',\n",
       " '/home/l-8053/Downloads/snow/First_Name_Last_Name_50_May/renamed/\"Personio_tado_attendance_2020-05-20 (13).xlsx\"',\n",
       " '/home/l-8053/Downloads/snow/First_Name_Last_Name_50_May/renamed/\"Personio_tado_attendance_2020-05-20 (14).xlsx\"',\n",
       " '/home/l-8053/Downloads/snow/First_Name_Last_Name_50_May/renamed/\"Personio_tado_attendance_2020-05-20 (15).xlsx\"',\n",
       " '/home/l-8053/Downloads/snow/First_Name_Last_Name_50_May/renamed/\"Personio_tado_attendance_2020-05-20 (16).xlsx\"',\n",
       " '/home/l-8053/Downloads/snow/First_Name_Last_Name_50_May/renamed/\"Personio_tado_attendance_2020-05-20 (17).xlsx\"',\n",
       " '/home/l-8053/Downloads/snow/First_Name_Last_Name_50_May/renamed/\"Personio_tado_attendance_2020-05-20 (18).xlsx\"',\n",
       " '/home/l-8053/Downloads/snow/First_Name_Last_Name_50_May/renamed/\"Personio_tado_attendance_2020-05-20 (19).xlsx\"']"
      ]
     },
     "execution_count": 10,
     "metadata": {},
     "output_type": "execute_result"
    }
   ],
   "source": [
    "rename[0:10]"
   ]
  },
  {
   "cell_type": "code",
   "execution_count": 4,
   "metadata": {},
   "outputs": [],
   "source": [
    "filename = \"orig.txt\"\n",
    "orig = ReadFile(path+filename, path)"
   ]
  },
  {
   "cell_type": "code",
   "execution_count": 5,
   "metadata": {},
   "outputs": [
    {
     "data": {
      "text/plain": [
       "'/home/l-8053/work/tado/\"Ankit Singh Amendment Agreement on the introduction of short-time work_SIGNED_with_email.pdf\"'"
      ]
     },
     "execution_count": 5,
     "metadata": {},
     "output_type": "execute_result"
    }
   ],
   "source": [
    "orig[0]"
   ]
  },
  {
   "cell_type": "code",
   "execution_count": 6,
   "metadata": {},
   "outputs": [
    {
     "data": {
      "text/plain": [
       "'/home/l-8053/work/tado/renamed/\"Ankit Singh_Signed Amendment_50%.pdf\"'"
      ]
     },
     "execution_count": 6,
     "metadata": {},
     "output_type": "execute_result"
    }
   ],
   "source": [
    "rename[0]"
   ]
  },
  {
   "cell_type": "code",
   "execution_count": 7,
   "metadata": {},
   "outputs": [
    {
     "name": "stdout",
     "output_type": "stream",
     "text": [
      "'/home/l-8053/work/tado/Ankit Singh Amendment Agreement on the introduction of short-time work_SIGNED_with_email.pdf'\n"
     ]
    }
   ],
   "source": [
    "!ls {orig[0]}"
   ]
  },
  {
   "cell_type": "code",
   "execution_count": 8,
   "metadata": {},
   "outputs": [
    {
     "name": "stdout",
     "output_type": "stream",
     "text": [
      "renaming /home/l-8053/work/tado/\"Ankit Singh Amendment Agreement on the introduction of short-time work_SIGNED_with_email.pdf\"  --> /home/l-8053/work/tado/renamed/\"Ankit Singh_Signed Amendment_50%.pdf\"\n",
      "cp: cannot create regular file '/home/l-8053/work/tado/renamed/Ankit Singh_Signed Amendment_50%.pdf': No such file or directory\n",
      "renaming /home/l-8053/work/tado/\"Anton Bogomolov Amendment Agreement on the introduction of short-time work_SIGNED.pdf\"  --> /home/l-8053/work/tado/renamed/\"Anton Bogomolov_Signed Amendment_50%.pdf\"\n",
      "cp: cannot create regular file '/home/l-8053/work/tado/renamed/Anton Bogomolov_Signed Amendment_50%.pdf': No such file or directory\n",
      "renaming /home/l-8053/work/tado/\"Anton Weber Amendment Agreement on the introduction of short-time work_SIGNED.pdf\"  --> /home/l-8053/work/tado/renamed/\"Anton Weber_Signed Amendment_50%.pdf\"\n",
      "cp: cannot create regular file '/home/l-8053/work/tado/renamed/Anton Weber_Signed Amendment_50%.pdf': No such file or directory\n",
      "renaming /home/l-8053/work/tado/\"Asma Abidi Amendment Agreement on the introduction of short-time work_SIGNED.pdf\"  --> /home/l-8053/work/tado/renamed/\"Asma Abidi_Signed Amendment_50%.pdf\"\n",
      "cp: cannot create regular file '/home/l-8053/work/tado/renamed/Asma Abidi_Signed Amendment_50%.pdf': No such file or directory\n",
      "renaming /home/l-8053/work/tado/\"Barbara Blanchard Astier Amendment Agreement on the introduction of short-time work_SIGNED.pdf\"  --> /home/l-8053/work/tado/renamed/\"Barbara Blanchard Astier_Signed Amendment_50%.pdf\"\n",
      "cp: cannot create regular file '/home/l-8053/work/tado/renamed/Barbara Blanchard Astier_Signed Amendment_50%.pdf': No such file or directory\n",
      "renaming /home/l-8053/work/tado/\"Barbra Schuett Amendment Agreement on the introduction of short-time work_SIGNED.pdf\"  --> /home/l-8053/work/tado/renamed/\"Barbra Schuett _Signed Amendment_50%.pdf\"\n",
      "cp: cannot create regular file '/home/l-8053/work/tado/renamed/Barbra Schuett _Signed Amendment_50%.pdf': No such file or directory\n",
      "renaming /home/l-8053/work/tado/\"Benedict Maerkl Amendment Agreement on the introduction of short-time work_SIGNED.pdf\"  --> /home/l-8053/work/tado/renamed/\"Benedict Maerkl_Signed Amendment_50%.pdf\"\n",
      "cp: cannot create regular file '/home/l-8053/work/tado/renamed/Benedict Maerkl_Signed Amendment_50%.pdf': No such file or directory\n",
      "renaming /home/l-8053/work/tado/\"Benedikt Blum Amendment Agreement on the introduction of short-time work_SIGNED.pdf\"  --> /home/l-8053/work/tado/renamed/\"Benedikt Blum _Signed Amendment_50%.pdf\"\n",
      "cp: cannot create regular file '/home/l-8053/work/tado/renamed/Benedikt Blum _Signed Amendment_50%.pdf': No such file or directory\n",
      "renaming /home/l-8053/work/tado/\"Britta Schnabel Kurzarbeit Amendment Signed.pdf\"  --> /home/l-8053/work/tado/renamed/\"Britta Schnabel_Signed Amendment_50%.pdf\"\n",
      "cp: cannot create regular file '/home/l-8053/work/tado/renamed/Britta Schnabel_Signed Amendment_50%.pdf': No such file or directory\n",
      "renaming /home/l-8053/work/tado/\"Carolina Fernandez Castiblanco Amendment Agreement on the introduction of short-time work_SIGNED.pdf\"  --> /home/l-8053/work/tado/renamed/\"Carolina Fernandez Castiblanco_Signed Amendment_50%.pdf\"\n",
      "cp: cannot create regular file '/home/l-8053/work/tado/renamed/Carolina Fernandez Castiblanco_Signed Amendment_50%.pdf': No such file or directory\n",
      "renaming /home/l-8053/work/tado/\"Chamila Perera Amendment Agreement on the introduction of short-time work_SIGNED.pdf\"  --> /home/l-8053/work/tado/renamed/\"Chamila Perera _Signed Amendment_50%.pdf\"\n",
      "cp: cannot create regular file '/home/l-8053/work/tado/renamed/Chamila Perera _Signed Amendment_50%.pdf': No such file or directory\n",
      "renaming /home/l-8053/work/tado/\"Chamila.Perera.Amendment agreement.shorttimework.pdf\"  --> /home/l-8053/work/tado/renamed/\"Chamila.Perera_Signed Amendment_50%.pdf\"\n",
      "cp: cannot create regular file '/home/l-8053/work/tado/renamed/Chamila.Perera_Signed Amendment_50%.pdf': No such file or directory\n",
      "renaming /home/l-8053/work/tado/\"Christoph Seidl Amendment Agreement on the introduction of short-time work_SIGNED.pdf\"  --> /home/l-8053/work/tado/renamed/\"Christoph Seidl_Signed Amendment_50%.pdf\"\n",
      "cp: cannot create regular file '/home/l-8053/work/tado/renamed/Christoph Seidl_Signed Amendment_50%.pdf': No such file or directory\n",
      "renaming /home/l-8053/work/tado/\"Claudia Bajurin Amendment Agreement on the introduction of short-time work_SIGNED.pdf\"  --> /home/l-8053/work/tado/renamed/\"Claudia Bajurin_Signed Amendment_50%.pdf\"\n",
      "cp: cannot create regular file '/home/l-8053/work/tado/renamed/Claudia Bajurin_Signed Amendment_50%.pdf': No such file or directory\n",
      "renaming /home/l-8053/work/tado/\"Damian Kubaczka Amendment Agreement on the introduction of short-time work_SIGNED.pdf\"  --> /home/l-8053/work/tado/renamed/\"Damian Kubaczka_Signed Amendment_50%.pdf\"\n",
      "cp: cannot create regular file '/home/l-8053/work/tado/renamed/Damian Kubaczka_Signed Amendment_50%.pdf': No such file or directory\n",
      "renaming /home/l-8053/work/tado/\"Daria Samkova Amendment Agreement on the introduction of short-time work_SIGNED.pdf.pdf\"  --> /home/l-8053/work/tado/renamed/\"Daria Samkova _Signed Amendment_50%.pdf\"\n",
      "cp: cannot create regular file '/home/l-8053/work/tado/renamed/Daria Samkova _Signed Amendment_50%.pdf': No such file or directory\n",
      "renaming /home/l-8053/work/tado/\"Dean Lillywhite Amendment Agreement on the introduction of short-time work_SIGNED.pdf\"  --> /home/l-8053/work/tado/renamed/\"Dean Lillywhite _Signed Amendment_50%.pdf\"\n",
      "cp: cannot create regular file '/home/l-8053/work/tado/renamed/Dean Lillywhite _Signed Amendment_50%.pdf': No such file or directory\n",
      "renaming /home/l-8053/work/tado/\"Denis Vasilkovskii Amendment Agreement on the introduction of short-time work_SIGNED.pdf\"  --> /home/l-8053/work/tado/renamed/\"Denis Vasilkovskii _Signed Amendment_50%.pdf\"\n",
      "cp: cannot create regular file '/home/l-8053/work/tado/renamed/Denis Vasilkovskii _Signed Amendment_50%.pdf': No such file or directory\n",
      "renaming /home/l-8053/work/tado/\"Dennis Frommknecht Amendment Agreement on the introduction of short-time work_SIGNED.pdf\"  --> /home/l-8053/work/tado/renamed/\"Dennis Frommknecht_Signed Amendment_50%.pdf\"\n",
      "cp: cannot create regular file '/home/l-8053/work/tado/renamed/Dennis Frommknecht_Signed Amendment_50%.pdf': No such file or directory\n",
      "renaming /home/l-8053/work/tado/\"Dmitri Soudeikine Amendment Agreement on the introduction of short-time work_SIGNED.pdf\"  --> /home/l-8053/work/tado/renamed/\"Dmitri Soudeikine_Signed Amendment_50%.pdf\"\n",
      "cp: cannot create regular file '/home/l-8053/work/tado/renamed/Dmitri Soudeikine_Signed Amendment_50%.pdf': No such file or directory\n",
      "renaming /home/l-8053/work/tado/\"Elena Marini Amendment Agreement on the introduction of short-time work_SIGNED.pdf\"  --> /home/l-8053/work/tado/renamed/\"Elena Marini _Signed Amendment_50%.pdf\"\n",
      "cp: cannot create regular file '/home/l-8053/work/tado/renamed/Elena Marini _Signed Amendment_50%.pdf': No such file or directory\n",
      "renaming /home/l-8053/work/tado/\"Ettore Fazio Amendment Agreement on the introduction of short-time work_SIGNED.pdf\"  --> /home/l-8053/work/tado/renamed/\"Ettore Fazio _Signed Amendment_50%.pdf\"\n",
      "cp: cannot create regular file '/home/l-8053/work/tado/renamed/Ettore Fazio _Signed Amendment_50%.pdf': No such file or directory\n",
      "renaming /home/l-8053/work/tado/\"Fabrizio Pirazzini Amendment Agreement on the introduction of short-time work_SIGNED.pdf\"  --> /home/l-8053/work/tado/renamed/\"Fabrizio Pirazzini_Signed Amendment_50%.pdf\"\n",
      "cp: cannot create regular file '/home/l-8053/work/tado/renamed/Fabrizio Pirazzini_Signed Amendment_50%.pdf': No such file or directory\n",
      "renaming /home/l-8053/work/tado/\"Federico Valensise Amendment Agreement on the introduction of short-time work_SIGNED.pdf\"  --> /home/l-8053/work/tado/renamed/\"Federico Valensise_Signed Amendment_50%.pdf\"\n",
      "cp: cannot create regular file '/home/l-8053/work/tado/renamed/Federico Valensise_Signed Amendment_50%.pdf': No such file or directory\n",
      "renaming /home/l-8053/work/tado/\"Gautier Seidel Amendment agreement signed.pdf\"  --> /home/l-8053/work/tado/renamed/\"Gautier Seidel_Signed Amendment_50%.pdf\"\n",
      "cp: cannot create regular file '/home/l-8053/work/tado/renamed/Gautier Seidel_Signed Amendment_50%.pdf': No such file or directory\n",
      "renaming /home/l-8053/work/tado/\"GeertPaelinck_Amendment Agreement on the introduction of short-time work_SIGNED.pdf\"  --> /home/l-8053/work/tado/renamed/\"Geert Paelinck_Signed Amendment_50%.pdf\"\n",
      "cp: cannot create regular file '/home/l-8053/work/tado/renamed/Geert Paelinck_Signed Amendment_50%.pdf': No such file or directory\n",
      "renaming /home/l-8053/work/tado/\"Guillermo Fernandez-Cerezo_Signed.pdf\"  --> /home/l-8053/work/tado/renamed/\"Guillermo FernandezCerezo_Signed Amendment_50%.pdf\"\n",
      "cp: cannot create regular file '/home/l-8053/work/tado/renamed/Guillermo FernandezCerezo_Signed Amendment_50%.pdf': No such file or directory\n",
      "renaming /home/l-8053/work/tado/\"Hanna_Klimpke_SIgned.pdf\"  --> /home/l-8053/work/tado/renamed/\"Hanna_Klimpke_Signed Amendment_50%.pdf\"\n",
      "cp: cannot create regular file '/home/l-8053/work/tado/renamed/Hanna_Klimpke_Signed Amendment_50%.pdf': No such file or directory\n",
      "renaming /home/l-8053/work/tado/\"Hauke Haller_Signed.pdf\"  --> /home/l-8053/work/tado/renamed/\"Hauke Haller_Signed Amendment_50%.pdf\"\n",
      "cp: cannot create regular file '/home/l-8053/work/tado/renamed/Hauke Haller_Signed Amendment_50%.pdf': No such file or directory\n",
      "renaming /home/l-8053/work/tado/\"Héctor González_Signed.pdf\"  --> /home/l-8053/work/tado/renamed/\"Héctor Gzález_Signed Amendment_50%.pdf\"\n",
      "cp: cannot create regular file '/home/l-8053/work/tado/renamed/Héctor Gzález_Signed Amendment_50%.pdf': No such file or directory\n",
      "renaming /home/l-8053/work/tado/\"Ignacio Ampuero_Signed.pdf\"  --> /home/l-8053/work/tado/renamed/\"Ignacio Ampeuro_Signed Amendment_50%.pdf\"\n",
      "cp: cannot create regular file '/home/l-8053/work/tado/renamed/Ignacio Ampeuro_Signed Amendment_50%.pdf': No such file or directory\n",
      "renaming /home/l-8053/work/tado/\"Jakob Moll_Signed.pdf\"  --> /home/l-8053/work/tado/renamed/\"Jakob Moll_Signed Amendment_50%.pdf\"\n",
      "cp: cannot create regular file '/home/l-8053/work/tado/renamed/Jakob Moll_Signed Amendment_50%.pdf': No such file or directory\n",
      "renaming /home/l-8053/work/tado/\"Jakub Denk_Signed.pdf\"  --> /home/l-8053/work/tado/renamed/\"Jakub Denk_Signed Amendment_50%.pdf\"\n",
      "cp: cannot create regular file '/home/l-8053/work/tado/renamed/Jakub Denk_Signed Amendment_50%.pdf': No such file or directory\n",
      "renaming /home/l-8053/work/tado/\"Jhinneska_Signed.pdf\"  --> /home/l-8053/work/tado/renamed/\"Jhinneska_Signed Amendment_50%.pdf\"\n",
      "cp: cannot create regular file '/home/l-8053/work/tado/renamed/Jhinneska_Signed Amendment_50%.pdf': No such file or directory\n",
      "renaming /home/l-8053/work/tado/\"Jonas Huber_Signed.pdf\"  --> /home/l-8053/work/tado/renamed/\"Jas Huber_Signed Amendment_50%.pdf\"\n",
      "cp: cannot create regular file '/home/l-8053/work/tado/renamed/Jas Huber_Signed Amendment_50%.pdf': No such file or directory\n",
      "renaming /home/l-8053/work/tado/\"Joseph_Rixom_SIgned.pdf\"  --> /home/l-8053/work/tado/renamed/\"Joseph_Rixom_Signed Amendment_50%.pdf\"\n",
      "cp: cannot create regular file '/home/l-8053/work/tado/renamed/Joseph_Rixom_Signed Amendment_50%.pdf': No such file or directory\n",
      "renaming /home/l-8053/work/tado/\"Jurian Jansen van Gaalen_Signed.pdf\"  --> /home/l-8053/work/tado/renamed/\"Jurian Jansen van Gaalen_Signed Amendment_50%.pdf\"\n",
      "cp: cannot create regular file '/home/l-8053/work/tado/renamed/Jurian Jansen van Gaalen_Signed Amendment_50%.pdf': No such file or directory\n",
      "renaming /home/l-8053/work/tado/\"Kai Yang Tee_Signed.pdf\"  --> /home/l-8053/work/tado/renamed/\"Kai Yang Tee_Signed Amendment_50%.pdf\"\n",
      "cp: cannot create regular file '/home/l-8053/work/tado/renamed/Kai Yang Tee_Signed Amendment_50%.pdf': No such file or directory\n",
      "renaming /home/l-8053/work/tado/\"Katharina Gomse_Signed.pdf\"  --> /home/l-8053/work/tado/renamed/\"Katharina Gomse_Signed Amendment_50%.pdf\"\n",
      "cp: cannot create regular file '/home/l-8053/work/tado/renamed/Katharina Gomse_Signed Amendment_50%.pdf': No such file or directory\n",
      "renaming /home/l-8053/work/tado/\"Kaveh Sarbandi_Signed.pdf\"  --> /home/l-8053/work/tado/renamed/\"Kaveh Sarbandi_Signed Amendment_50%.pdf\"\n",
      "cp: cannot create regular file '/home/l-8053/work/tado/renamed/Kaveh Sarbandi_Signed Amendment_50%.pdf': No such file or directory\n",
      "renaming /home/l-8053/work/tado/\"Kelvin Elton Nogueira da Silva_Signed.pdf\"  --> /home/l-8053/work/tado/renamed/\"Kelvin Elt Nogueira da Silva_Signed Amendment_50%.pdf\"\n",
      "cp: cannot create regular file '/home/l-8053/work/tado/renamed/Kelvin Elt Nogueira da Silva_Signed Amendment_50%.pdf': No such file or directory\n",
      "renaming /home/l-8053/work/tado/\"Kelyane Walter Goncalves.pdf\"  --> /home/l-8053/work/tado/renamed/\"Kelyane Walter Gcalves_Signed Amendment_50%.pdf\"\n",
      "cp: cannot create regular file '/home/l-8053/work/tado/renamed/Kelyane Walter Gcalves_Signed Amendment_50%.pdf': No such file or directory\n",
      "renaming /home/l-8053/work/tado/\"Kilian Studtmann_Signed.pdf\"  --> /home/l-8053/work/tado/renamed/\"Kilian Studtmann_Signed Amendment_50%.pdf\"\n",
      "cp: cannot create regular file '/home/l-8053/work/tado/renamed/Kilian Studtmann_Signed Amendment_50%.pdf': No such file or directory\n",
      "renaming /home/l-8053/work/tado/\"Kristina Knobel_Signed.pdf\"  --> /home/l-8053/work/tado/renamed/\"Kristina Knobel_Signed Amendment_50%.pdf\"\n",
      "cp: cannot create regular file '/home/l-8053/work/tado/renamed/Kristina Knobel_Signed Amendment_50%.pdf': No such file or directory\n",
      "renaming /home/l-8053/work/tado/\"Lakshmi Lazanas_SIgned.pdf\"  --> /home/l-8053/work/tado/renamed/\"Lakshmi Lazanas_Signed Amendment_50%.pdf\"\n",
      "cp: cannot create regular file '/home/l-8053/work/tado/renamed/Lakshmi Lazanas_Signed Amendment_50%.pdf': No such file or directory\n",
      "renaming /home/l-8053/work/tado/\"Lara Cobacho_Signed.pdf\"  --> /home/l-8053/work/tado/renamed/\"Lara Cobacho_Signed Amendment_50%.pdf\"\n",
      "cp: cannot create regular file '/home/l-8053/work/tado/renamed/Lara Cobacho_Signed Amendment_50%.pdf': No such file or directory\n",
      "renaming /home/l-8053/work/tado/\"Lilia_Baoough_Signed.pdf\"  --> /home/l-8053/work/tado/renamed/\"Lilia_Baoough_Signed Amendment_50%.pdf\"\n",
      "cp: cannot create regular file '/home/l-8053/work/tado/renamed/Lilia_Baoough_Signed Amendment_50%.pdf': No such file or directory\n",
      "renaming /home/l-8053/work/tado/\"Lucas Felix de Sousa_Signed.pdf\"  --> /home/l-8053/work/tado/renamed/\"Lucas Felix de Sousa_Signed Amendment_50%.pdf\"\n",
      "cp: cannot create regular file '/home/l-8053/work/tado/renamed/Lucas Felix de Sousa_Signed Amendment_50%.pdf': No such file or directory\n",
      "renaming /home/l-8053/work/tado/\"Luca Visani_Signed.pdf\"  --> /home/l-8053/work/tado/renamed/\"Luca Visani_Signed Amendment_50%.pdf\"\n",
      "cp: cannot create regular file '/home/l-8053/work/tado/renamed/Luca Visani_Signed Amendment_50%.pdf': No such file or directory\n",
      "renaming /home/l-8053/work/tado/\"Luka Giorgadze_SIgned.pdf\"  --> /home/l-8053/work/tado/renamed/\"Luka Giorgadze_Signed Amendment_50%.pdf\"\n",
      "cp: cannot create regular file '/home/l-8053/work/tado/renamed/Luka Giorgadze_Signed Amendment_50%.pdf': No such file or directory\n",
      "renaming /home/l-8053/work/tado/\"Lukas Heim_Signed.pdf\"  --> /home/l-8053/work/tado/renamed/\"Lukas Heim_Signed Amendment_50%.pdf\"\n",
      "cp: cannot create regular file '/home/l-8053/work/tado/renamed/Lukas Heim_Signed Amendment_50%.pdf': No such file or directory\n",
      "renaming /home/l-8053/work/tado/\"Maarten Lenior_Signed.pdf\"  --> /home/l-8053/work/tado/renamed/\"Maarten Lenior_Signed Amendment_50%.pdf\"\n",
      "cp: cannot create regular file '/home/l-8053/work/tado/renamed/Maarten Lenior_Signed Amendment_50%.pdf': No such file or directory\n",
      "renaming /home/l-8053/work/tado/\"Maciej Piekarski_Signed.pdf\"  --> /home/l-8053/work/tado/renamed/\"Maciej Piekarski_Signed Amendment_50%.pdf\"\n",
      "cp: cannot create regular file '/home/l-8053/work/tado/renamed/Maciej Piekarski_Signed Amendment_50%.pdf': No such file or directory\n",
      "renaming /home/l-8053/work/tado/\"Madi Yessirkepov_Signed.pdf\"  --> /home/l-8053/work/tado/renamed/\"Madi Yessirkepov_Signed Amendment_50%.pdf\"\n",
      "cp: cannot create regular file '/home/l-8053/work/tado/renamed/Madi Yessirkepov_Signed Amendment_50%.pdf': No such file or directory\n",
      "renaming /home/l-8053/work/tado/\"Magdalena_Signed.pdf\"  --> /home/l-8053/work/tado/renamed/\"Magdalena_Signed Amendment_50%.pdf\"\n",
      "cp: cannot create regular file '/home/l-8053/work/tado/renamed/Magdalena_Signed Amendment_50%.pdf': No such file or directory\n",
      "renaming /home/l-8053/work/tado/\"Manuel Moser_Signed.pdf\"  --> /home/l-8053/work/tado/renamed/\"Manuel Moser_Signed Amendment_50%.pdf\"\n",
      "cp: cannot create regular file '/home/l-8053/work/tado/renamed/Manuel Moser_Signed Amendment_50%.pdf': No such file or directory\n",
      "renaming /home/l-8053/work/tado/\"Marcel Carrato_Signed.pdf\"  --> /home/l-8053/work/tado/renamed/\"Marcel Carrato_Signed Amendment_50%.pdf\"\n",
      "cp: cannot create regular file '/home/l-8053/work/tado/renamed/Marcel Carrato_Signed Amendment_50%.pdf': No such file or directory\n",
      "renaming /home/l-8053/work/tado/\"Marcel_Hrneck_Signed.pdf\"  --> /home/l-8053/work/tado/renamed/\"Marcel_Hrneck_Signed Amendment_50%.pdf\"\n",
      "cp: cannot create regular file '/home/l-8053/work/tado/renamed/Marcel_Hrneck_Signed Amendment_50%.pdf': No such file or directory\n",
      "renaming /home/l-8053/work/tado/\"Mariela Sassi_SIgned.pdf\"  --> /home/l-8053/work/tado/renamed/\"Mariela Sassi_Signed Amendment_50%.pdf\"\n",
      "cp: cannot create regular file '/home/l-8053/work/tado/renamed/Mariela Sassi_Signed Amendment_50%.pdf': No such file or directory\n",
      "renaming /home/l-8053/work/tado/\"Marie Milan_Signed.pdf\"  --> /home/l-8053/work/tado/renamed/\"Marie Milan_Signed Amendment_50%.pdf\"\n",
      "cp: cannot create regular file '/home/l-8053/work/tado/renamed/Marie Milan_Signed Amendment_50%.pdf': No such file or directory\n",
      "renaming /home/l-8053/work/tado/\"Marlène Théberge_SIgned.pdf\"  --> /home/l-8053/work/tado/renamed/\"Marlène Théberge_Signed Amendment_50%.pdf\"\n",
      "cp: cannot create regular file '/home/l-8053/work/tado/renamed/Marlène Théberge_Signed Amendment_50%.pdf': No such file or directory\n",
      "renaming /home/l-8053/work/tado/\"Marzia De Lorenzo_Signed.pdf\"  --> /home/l-8053/work/tado/renamed/\"Marzia De Lorenzo_Signed Amendment_50%.pdf\"\n",
      "cp: cannot create regular file '/home/l-8053/work/tado/renamed/Marzia De Lorenzo_Signed Amendment_50%.pdf': No such file or directory\n",
      "renaming /home/l-8053/work/tado/\"Maximilian Graf 50_ Amendment.pdf\"  --> /home/l-8053/work/tado/renamed/\"Maximilian Graf_Signed Amendment_50%.pdf\"\n",
      "cp: cannot create regular file '/home/l-8053/work/tado/renamed/Maximilian Graf_Signed Amendment_50%.pdf': No such file or directory\n",
      "renaming /home/l-8053/work/tado/\"Maximilian Lacher_signed_Amendment agreement short time work.pdf\"  --> /home/l-8053/work/tado/renamed/\"Maximilian Lacher_Signed Amendment_50%.pdf\"\n",
      "cp: cannot create regular file '/home/l-8053/work/tado/renamed/Maximilian Lacher_Signed Amendment_50%.pdf': No such file or directory\n",
      "renaming /home/l-8053/work/tado/\"Maximilian Stöckle 50__Amendment agreement short time work.tadoSIGNED (1).pdf\"  --> /home/l-8053/work/tado/renamed/\"Maximilian Stöckle_Signed Amendment_50%.pdf\"\n",
      "cp: cannot create regular file '/home/l-8053/work/tado/renamed/Maximilian Stöckle_Signed Amendment_50%.pdf': No such file or directory\n",
      "renaming /home/l-8053/work/tado/\"Melina von Hoyningen Huene 50_ Amendment.pdf\"  --> /home/l-8053/work/tado/renamed/\"Melina  Hoyningen Huene_Signed Amendment_50%.pdf\"\n",
      "cp: cannot create regular file '/home/l-8053/work/tado/renamed/Melina  Hoyningen Huene_Signed Amendment_50%.pdf': No such file or directory\n",
      "renaming /home/l-8053/work/tado/\"Michael Niedermayr 50__Amendment agreement short time work.tadoSIGNED_Final.pdf\"  --> /home/l-8053/work/tado/renamed/\"Michael Niedermayr_Signed Amendment_50%.pdf\"\n",
      "cp: cannot create regular file '/home/l-8053/work/tado/renamed/Michael Niedermayr_Signed Amendment_50%.pdf': No such file or directory\n",
      "renaming /home/l-8053/work/tado/\"Monica Voltolina_50__Amendment agreement short time work.tadoSIGNED (1).pdf\"  --> /home/l-8053/work/tado/renamed/\"Monica Voltolina_Signed Amendment_50%.pdf\"\n",
      "cp: cannot create regular file '/home/l-8053/work/tado/renamed/Monica Voltolina_Signed Amendment_50%.pdf': No such file or directory\n",
      "renaming /home/l-8053/work/tado/\"Moritz Körber_Amendment Agreement on the introduction of short-time work.pdf\"  --> /home/l-8053/work/tado/renamed/\"Moritz Körber_Signed Amendment_50%.pdf\"\n",
      "cp: cannot create regular file '/home/l-8053/work/tado/renamed/Moritz Körber_Signed Amendment_50%.pdf': No such file or directory\n",
      "renaming /home/l-8053/work/tado/\"Muhora Wuyckens 50_ Amendment.pdf\"  --> /home/l-8053/work/tado/renamed/\"Muhora Wuyckens_Signed Amendment_50%.pdf\"\n",
      "cp: cannot create regular file '/home/l-8053/work/tado/renamed/Muhora Wuyckens_Signed Amendment_50%.pdf': No such file or directory\n",
      "renaming /home/l-8053/work/tado/\"Nguyen Minh Thuy_50__Amendment agreement short time work.tadoSIGNED (1).pdf\"  --> /home/l-8053/work/tado/renamed/\"Nguyen Minh Thuy_Signed Amendment_50%.pdf\"\n",
      "cp: cannot create regular file '/home/l-8053/work/tado/renamed/Nguyen Minh Thuy_Signed Amendment_50%.pdf': No such file or directory\n",
      "renaming /home/l-8053/work/tado/\"Nicky_Shiffa_50__Amendment.pdf\"  --> /home/l-8053/work/tado/renamed/\"Nicky_Shiffa_Signed Amendment_50%.pdf\"\n",
      "cp: cannot create regular file '/home/l-8053/work/tado/renamed/Nicky_Shiffa_Signed Amendment_50%.pdf': No such file or directory\n",
      "renaming /home/l-8053/work/tado/\"Paula_Laborda_50__Amendment agreement short time work.tadoSIGNED.pdf\"  --> /home/l-8053/work/tado/renamed/\"Paula_Laborda_Signed Amendment_50%.pdf\"\n",
      "cp: cannot create regular file '/home/l-8053/work/tado/renamed/Paula_Laborda_Signed Amendment_50%.pdf': No such file or directory\n",
      "renaming /home/l-8053/work/tado/\"Pedro_Barbieri 50_ Amendment.pdf\"  --> /home/l-8053/work/tado/renamed/\"Pedro_Barbieri_Signed Amendment_50%.pdf\"\n",
      "cp: cannot create regular file '/home/l-8053/work/tado/renamed/Pedro_Barbieri_Signed Amendment_50%.pdf': No such file or directory\n",
      "renaming /home/l-8053/work/tado/\"Pierre Guillet_50__Amendment agreement short time work.tadoSIGNED_PG SIGNED.pdf\"  --> /home/l-8053/work/tado/renamed/\"Pierre Guillet_Signed Amendment_50%.pdf\"\n",
      "cp: cannot create regular file '/home/l-8053/work/tado/renamed/Pierre Guillet_Signed Amendment_50%.pdf': No such file or directory\n",
      "renaming /home/l-8053/work/tado/\"Rebekka Tillack 50_ Amendment.pdf\"  --> /home/l-8053/work/tado/renamed/\"Rebekka Tillack_Signed Amendment_50%.pdf\"\n",
      "cp: cannot create regular file '/home/l-8053/work/tado/renamed/Rebekka Tillack_Signed Amendment_50%.pdf': No such file or directory\n",
      "renaming /home/l-8053/work/tado/\"Richard Brace Amendment Agreement (1).pdf\"  --> /home/l-8053/work/tado/renamed/\"Richard Brace _Signed Amendment_50%.pdf\"\n",
      "cp: cannot create regular file '/home/l-8053/work/tado/renamed/Richard Brace _Signed Amendment_50%.pdf': No such file or directory\n",
      "renaming /home/l-8053/work/tado/\"Ritske Sjoerd Riemersma_50_Amendment agreement short.pdf\"  --> /home/l-8053/work/tado/renamed/\"Ritske Sjoerd Riemersma_Signed Amendment_50%.pdf\"\n",
      "cp: cannot create regular file '/home/l-8053/work/tado/renamed/Ritske Sjoerd Riemersma_Signed Amendment_50%.pdf': No such file or directory\n",
      "renaming /home/l-8053/work/tado/\"Rob Gordijn 50_ Amendment.pdf\"  --> /home/l-8053/work/tado/renamed/\"Rob Gordijn_Signed Amendment_50%.pdf\"\n",
      "cp: cannot create regular file '/home/l-8053/work/tado/renamed/Rob Gordijn_Signed Amendment_50%.pdf': No such file or directory\n",
      "renaming /home/l-8053/work/tado/\"Ronnie Esparza Mera_50_ Amendment_.pdf\"  --> /home/l-8053/work/tado/renamed/\"Ronnie Esparza Mera_Signed Amendment_50%.pdf\"\n",
      "cp: cannot create regular file '/home/l-8053/work/tado/renamed/Ronnie Esparza Mera_Signed Amendment_50%.pdf': No such file or directory\n",
      "renaming /home/l-8053/work/tado/\"Sabrina Bülig 50_ Amendment.pdf\"  --> /home/l-8053/work/tado/renamed/\"Sabrina Bülig_Signed Amendment_50%.pdf\"\n",
      "cp: cannot create regular file '/home/l-8053/work/tado/renamed/Sabrina Bülig_Signed Amendment_50%.pdf': No such file or directory\n",
      "renaming /home/l-8053/work/tado/\"Samuel Berwanger_50__Amendment agreement short time work.tadoSIGNED (1).pdf\"  --> /home/l-8053/work/tado/renamed/\"Samuel Berwanger_Signed Amendment_50%.pdf\"\n",
      "cp: cannot create regular file '/home/l-8053/work/tado/renamed/Samuel Berwanger_Signed Amendment_50%.pdf': No such file or directory\n",
      "renaming /home/l-8053/work/tado/\"Sandra Würtinger_50__Amendment agreement short time work_signed.pdf\"  --> /home/l-8053/work/tado/renamed/\"Sandra Würtinger_Signed Amendment_50%.pdf\"\n",
      "cp: cannot create regular file '/home/l-8053/work/tado/renamed/Sandra Würtinger_Signed Amendment_50%.pdf': No such file or directory\n",
      "renaming /home/l-8053/work/tado/\"Sarah_Abdelrazak_50__Amendment agreement short time work.tadoSIGNED (1).pdf\"  --> /home/l-8053/work/tado/renamed/\"Sarah_Abdelrazak_Signed Amendment_50%.pdf\"\n",
      "cp: cannot create regular file '/home/l-8053/work/tado/renamed/Sarah_Abdelrazak_Signed Amendment_50%.pdf': No such file or directory\n",
      "renaming /home/l-8053/work/tado/\"Sebastian Schneider_Amendment Agreement on the introduction of short-time work_SIGNED.pdf\"  --> /home/l-8053/work/tado/renamed/\"Sebastian Schneider_Signed Amendment_50%.pdf\"\n",
      "cp: cannot create regular file '/home/l-8053/work/tado/renamed/Sebastian Schneider_Signed Amendment_50%.pdf': No such file or directory\n",
      "renaming /home/l-8053/work/tado/\"Shailender Paul Singh_Amendment agreement short time work.tadoSIGNED.pdf\"  --> /home/l-8053/work/tado/renamed/\"Shailender Paul Singh_Signed Amendment_50%.pdf\"\n",
      "cp: cannot create regular file '/home/l-8053/work/tado/renamed/Shailender Paul Singh_Signed Amendment_50%.pdf': No such file or directory\n",
      "renaming /home/l-8053/work/tado/\"Sophia Neubauer_Amendment 50_ PF.pdf\"  --> /home/l-8053/work/tado/renamed/\"Sophia Neubauer_Signed Amendment_50%.pdf\"\n",
      "cp: cannot create regular file '/home/l-8053/work/tado/renamed/Sophia Neubauer_Signed Amendment_50%.pdf': No such file or directory\n",
      "renaming /home/l-8053/work/tado/\"Stefanie Beiersdorf_Amendment Agreement on the introduction of short-time work.pdf\"  --> /home/l-8053/work/tado/renamed/\"Stefanie Beiersdorf_Signed Amendment_50%.pdf\"\n",
      "cp: cannot create regular file '/home/l-8053/work/tado/renamed/Stefanie Beiersdorf_Signed Amendment_50%.pdf': No such file or directory\n",
      "renaming /home/l-8053/work/tado/\"Stefanie Sedlak Amendment 50_.pdf\"  --> /home/l-8053/work/tado/renamed/\"Stefanie Sedlak_Signed Amendment_50%.pdf\"\n",
      "cp: cannot create regular file '/home/l-8053/work/tado/renamed/Stefanie Sedlak_Signed Amendment_50%.pdf': No such file or directory\n",
      "renaming /home/l-8053/work/tado/\"Stefan Smarzly_50_A mendment.signed.pdf\"  --> /home/l-8053/work/tado/renamed/\"Stefan Smarzly_Signed Amendment_50%.pdf\"\n",
      "cp: cannot create regular file '/home/l-8053/work/tado/renamed/Stefan Smarzly_Signed Amendment_50%.pdf': No such file or directory\n",
      "renaming /home/l-8053/work/tado/\"Sweta_Maskikar_50_ Amendment.pdf\"  --> /home/l-8053/work/tado/renamed/\"Sweta_Maskikar_Signed Amendment_50%.pdf\"\n",
      "cp: cannot create regular file '/home/l-8053/work/tado/renamed/Sweta_Maskikar_Signed Amendment_50%.pdf': No such file or directory\n",
      "renaming /home/l-8053/work/tado/\"Tanja Steuer_50__Amendment agreement short time work.tadoSIGNED (1).pdf\"  --> /home/l-8053/work/tado/renamed/\"Tanja Steuer_Signed Amendment_50%.pdf\"\n",
      "cp: cannot create regular file '/home/l-8053/work/tado/renamed/Tanja Steuer_Signed Amendment_50%.pdf': No such file or directory\n",
      "renaming /home/l-8053/work/tado/\"TimoStreckfuss-Amendment.pdf\"  --> /home/l-8053/work/tado/renamed/\"TimoStreckfuss_Signed Amendment_50%.pdf\"\n",
      "cp: cannot create regular file '/home/l-8053/work/tado/renamed/TimoStreckfuss_Signed Amendment_50%.pdf': No such file or directory\n",
      "renaming /home/l-8053/work/tado/\"Tobias Aschenbrenner 50_ Amendment.pdf\"  --> /home/l-8053/work/tado/renamed/\"Tobias Aschenbrenner_Signed Amendment_50%.pdf\"\n",
      "cp: cannot create regular file '/home/l-8053/work/tado/renamed/Tobias Aschenbrenner_Signed Amendment_50%.pdf': No such file or directory\n",
      "renaming /home/l-8053/work/tado/\"Tobias Schneider Amendment.pdf\"  --> /home/l-8053/work/tado/renamed/\"Tobias Schneider_Signed Amendment_50%.pdf\"\n",
      "cp: cannot create regular file '/home/l-8053/work/tado/renamed/Tobias Schneider_Signed Amendment_50%.pdf': No such file or directory\n",
      "renaming /home/l-8053/work/tado/\"Tuan Anh Le_50__Amendment agreement short time work.tadoSIGNED (1).pdf\"  --> /home/l-8053/work/tado/renamed/\"Tuan Anh Le_Signed Amendment_50%.pdf\"\n",
      "cp: cannot create regular file '/home/l-8053/work/tado/renamed/Tuan Anh Le_Signed Amendment_50%.pdf': No such file or directory\n",
      "renaming /home/l-8053/work/tado/\"Vincenzo Panico 50_ Amendment.pdf\"  --> /home/l-8053/work/tado/renamed/\"Vincenzo Panico_Signed Amendment_50%.pdf\"\n",
      "cp: cannot create regular file '/home/l-8053/work/tado/renamed/Vincenzo Panico_Signed Amendment_50%.pdf': No such file or directory\n",
      "renaming /home/l-8053/work/tado/\"Yannick_Podschlapp_50_ Amendment_.pdf\"  --> /home/l-8053/work/tado/renamed/\"Yannick_Podschlapp_Signed Amendment_50%.pdf\"\n",
      "cp: cannot create regular file '/home/l-8053/work/tado/renamed/Yannick_Podschlapp_Signed Amendment_50%.pdf': No such file or directory\n",
      "renaming /home/l-8053/work/tado/\"Yuhui Xiong 50_ AmendmentKurzarbeit.pdf\"  --> /home/l-8053/work/tado/renamed/\"Yuhui Xig_Signed Amendment_50%.pdf\"\n",
      "cp: cannot create regular file '/home/l-8053/work/tado/renamed/Yuhui Xig_Signed Amendment_50%.pdf': No such file or directory\n",
      "renaming /home/l-8053/work/tado/\"Yung Shen Lew 50_ Amendment.pdf\"  --> /home/l-8053/work/tado/renamed/\"Yung Shen Lew_Signed Amendment_50%.pdf\"\n",
      "cp: cannot create regular file '/home/l-8053/work/tado/renamed/Yung Shen Lew_Signed Amendment_50%.pdf': No such file or directory\n"
     ]
    }
   ],
   "source": [
    "for i,v in enumerate(orig):\n",
    "    print(f'renaming {orig[i]}  --> {rename[i]}')\n",
    "    !cp {orig[i]} {rename[i]}\n",
    "#     !ls {rename[i]}"
   ]
  },
  {
   "cell_type": "code",
   "execution_count": null,
   "metadata": {},
   "outputs": [],
   "source": []
  }
 ],
 "metadata": {
  "kernelspec": {
   "display_name": "Python 3",
   "language": "python",
   "name": "python3"
  },
  "language_info": {
   "codemirror_mode": {
    "name": "ipython",
    "version": 3
   },
   "file_extension": ".py",
   "mimetype": "text/x-python",
   "name": "python",
   "nbconvert_exporter": "python",
   "pygments_lexer": "ipython3",
   "version": "3.6.9"
  }
 },
 "nbformat": 4,
 "nbformat_minor": 4
}
