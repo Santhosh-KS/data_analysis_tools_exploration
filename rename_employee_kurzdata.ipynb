{
 "cells": [
  {
   "cell_type": "code",
   "execution_count": 1,
   "metadata": {},
   "outputs": [],
   "source": [
    "import pandas as pd\n",
    "from pandas import ExcelWriter\n",
    "from pandas import ExcelFile\n",
    "import numpy as np"
   ]
  },
  {
   "cell_type": "code",
   "execution_count": 2,
   "metadata": {},
   "outputs": [],
   "source": [
    "def ReadFile(fl:str, path:str):\n",
    "    with open(fl) as f:\n",
    "        content = f.readlines()\n",
    "        # you may also want to remove whitespace characters like `\\n` at the end of each line\n",
    "        content = [path+x.strip() for x in content] \n",
    "    return content"
   ]
  },
  {
   "cell_type": "code",
   "execution_count": 26,
   "metadata": {},
   "outputs": [],
   "source": [
    "path = \"/home/l-8053/Downloads/snow/First_Name_Last_Name_50_May/copy/\"\n",
    "# path = \"/home/l-8053/Downloads/snow/80/\"\n",
    "filename = \"rename.txt\"\n",
    "rename = ReadFile(path+filename,path)"
   ]
  },
  {
   "cell_type": "code",
   "execution_count": 27,
   "metadata": {},
   "outputs": [
    {
     "data": {
      "text/plain": [
       "'/home/l-8053/Downloads/snow/First_Name_Last_Name_50_May/copy/10.xlsx'"
      ]
     },
     "execution_count": 27,
     "metadata": {},
     "output_type": "execute_result"
    }
   ],
   "source": [
    "rename[0]"
   ]
  },
  {
   "cell_type": "code",
   "execution_count": null,
   "metadata": {},
   "outputs": [],
   "source": []
  },
  {
   "cell_type": "code",
   "execution_count": 28,
   "metadata": {},
   "outputs": [],
   "source": [
    "def saveFile(inputfile, prefix=\"50% - May\"):\n",
    "    df = pd.read_excel(inputfile, convert_float=False)    \n",
    "    df.rename(columns={'Total hours': 'Hours worked'}, inplace=True)\n",
    "    df['Comment'] = df['Comment'].map({'public holiday':'public holiday (fiktives Kug)', 'paid vacation': 'paid vacation (100% Employer)'})\n",
    "    df.insert (7, \"Kug lost hours\", abs(df['Hours worked'] - 8))   \n",
    "    df.insert(8, \"Employer\", np.NaN)\n",
    "    df['Employer'][df['Hours worked'].isnull()] = 8 \n",
    "    # add a new row at the bottom\n",
    "    df = df.append(pd.Series(), ignore_index=True)\n",
    "    # add the sum\n",
    "    df.loc[[len(df)-1],'Hours worked'] = df['Hours worked'].sum()\n",
    "    df.loc[[len(df)-1],'Kug lost hours'] = df['Kug lost hours'].sum()\n",
    "    df.loc[[len(df)-1],'Employer'] = df['Employer'].sum()\n",
    "    df['Hours worked'] = df['Hours worked'].map('{:.2f}'.format)    \n",
    "    df['Kug lost hours'] = df['Kug lost hours'].map('{:.2f}'.format)    \n",
    "    df['Employer'] = df['Employer'].map('{:.2f}'.format)    \n",
    "#     df['Hours worked'] = df['Hours worked'].map(lambda x: '%2.2f' % x)\n",
    "#     df['Kug lost hours'] = df['Kug lost hours'].map(lambda x: '%2.2f' % x)\n",
    "#     df['Employer'] = df['Employer'].map(lambda x: '%2.2f' % x)\n",
    "    df = df.replace('nan','')\n",
    "#     df['Hours worked'].astype(float)\n",
    "#     df[''].astype(float)\n",
    "#     df[''].astype(float)\n",
    "#     df1 = df.replace('nan', '', regex=True)\n",
    "#     df[[\"Hours worked\", \"Kug lost hours\", \"Employer\"]] = df[[\"Hours worked\", \"Kug lost hours\", \"Employer\"]].apply(pd.to_numeric)\n",
    "    out_file = \"/tmp/tado/\"+df['Name'][0]+\" \"+prefix+\".xlsx\"\n",
    "    df.to_excel(out_file)\n",
    "    hideColumn(df,out_file)"
   ]
  },
  {
   "cell_type": "code",
   "execution_count": 29,
   "metadata": {},
   "outputs": [],
   "source": [
    "def hideColumn(df,outFile):\n",
    "    writer = pd.ExcelWriter(outFile, engine='xlsxwriter')\n",
    "    df.to_excel(writer, index=False, sheet_name='report')\n",
    "    workbook = writer.book\n",
    "    worksheet = writer.sheets['report']\n",
    "    worksheet.set_column('B:B', None, None, {'hidden': True})\n",
    "    writer.save()"
   ]
  },
  {
   "cell_type": "code",
   "execution_count": 30,
   "metadata": {},
   "outputs": [
    {
     "name": "stderr",
     "output_type": "stream",
     "text": [
      "/home/l-8053/py3/lib/python3.6/site-packages/ipykernel_launcher.py:7: SettingWithCopyWarning: \n",
      "A value is trying to be set on a copy of a slice from a DataFrame\n",
      "\n",
      "See the caveats in the documentation: https://pandas.pydata.org/pandas-docs/stable/user_guide/indexing.html#returning-a-view-versus-a-copy\n",
      "  import sys\n",
      "/home/l-8053/py3/lib/python3.6/site-packages/ipykernel_launcher.py:9: DeprecationWarning: The default dtype for empty Series will be 'object' instead of 'float64' in a future version. Specify a dtype explicitly to silence this warning.\n",
      "  if __name__ == '__main__':\n"
     ]
    }
   ],
   "source": [
    "saveFile(rename[0], prefix=\"80% - May\")   "
   ]
  },
  {
   "cell_type": "code",
   "execution_count": 32,
   "metadata": {},
   "outputs": [
    {
     "name": "stderr",
     "output_type": "stream",
     "text": [
      "/home/l-8053/py3/lib/python3.6/site-packages/ipykernel_launcher.py:7: SettingWithCopyWarning: \n",
      "A value is trying to be set on a copy of a slice from a DataFrame\n",
      "\n",
      "See the caveats in the documentation: https://pandas.pydata.org/pandas-docs/stable/user_guide/indexing.html#returning-a-view-versus-a-copy\n",
      "  import sys\n",
      "/home/l-8053/py3/lib/python3.6/site-packages/ipykernel_launcher.py:9: DeprecationWarning: The default dtype for empty Series will be 'object' instead of 'float64' in a future version. Specify a dtype explicitly to silence this warning.\n",
      "  if __name__ == '__main__':\n"
     ]
    }
   ],
   "source": [
    "prefix=\"50% - May\"\n",
    "# prefix=\"80% - May\"\n",
    "for f in rename:\n",
    "    saveFile(f,prefix=prefix)"
   ]
  },
  {
   "cell_type": "code",
   "execution_count": null,
   "metadata": {},
   "outputs": [],
   "source": [
    "# df = pd.read_excel(\"/home/l-8053/Downloads/snow/First_Name_Last_Name_50_May/copy/10.xlsx\", sheet_name=None)\n",
    "df = pd.read_excel(rename[0])"
   ]
  },
  {
   "cell_type": "code",
   "execution_count": null,
   "metadata": {},
   "outputs": [],
   "source": [
    "df.head(2)"
   ]
  },
  {
   "cell_type": "code",
   "execution_count": null,
   "metadata": {},
   "outputs": [],
   "source": [
    "df.rename(columns={'Total hours': 'Hours worked'}, inplace=True)"
   ]
  },
  {
   "cell_type": "code",
   "execution_count": null,
   "metadata": {},
   "outputs": [],
   "source": [
    "df.insert (7, \"Kug lost hours\", abs(df['Hours worked'] - 8))"
   ]
  },
  {
   "cell_type": "code",
   "execution_count": null,
   "metadata": {},
   "outputs": [],
   "source": []
  },
  {
   "cell_type": "code",
   "execution_count": null,
   "metadata": {},
   "outputs": [],
   "source": [
    "df.insert(8, \"Employer\", np.NaN)"
   ]
  },
  {
   "cell_type": "code",
   "execution_count": null,
   "metadata": {},
   "outputs": [],
   "source": [
    "# df['Hours worked'].round(3)\n",
    "# df['Hours worked'].apply(lambda x: round(x, 3))\n",
    "df['Hours worked'].map('{:.2f}'.format)"
   ]
  },
  {
   "cell_type": "code",
   "execution_count": null,
   "metadata": {},
   "outputs": [],
   "source": [
    "df['Hours worked'].size"
   ]
  },
  {
   "cell_type": "code",
   "execution_count": null,
   "metadata": {},
   "outputs": [],
   "source": [
    "len(df)"
   ]
  },
  {
   "cell_type": "code",
   "execution_count": null,
   "metadata": {},
   "outputs": [],
   "source": [
    "df = df.append(pd.Series(), ignore_index=True)"
   ]
  },
  {
   "cell_type": "code",
   "execution_count": null,
   "metadata": {},
   "outputs": [],
   "source": [
    "df['Hours worked'].size"
   ]
  },
  {
   "cell_type": "code",
   "execution_count": null,
   "metadata": {},
   "outputs": [],
   "source": [
    "df.head(3)"
   ]
  },
  {
   "cell_type": "code",
   "execution_count": null,
   "metadata": {},
   "outputs": [],
   "source": [
    "df['Employer'][df['Hours worked'].isnull()] = 8"
   ]
  },
  {
   "cell_type": "code",
   "execution_count": null,
   "metadata": {},
   "outputs": [],
   "source": [
    "df.head(10)"
   ]
  },
  {
   "cell_type": "code",
   "execution_count": null,
   "metadata": {},
   "outputs": [],
   "source": [
    "df['Comment'] = df['Comment'].map({'public holiday':'public holiday (fiktives Kug)', 'paid vacation': 'paid vacation (100% Employer)'})\n",
    "df.head()"
   ]
  },
  {
   "cell_type": "code",
   "execution_count": null,
   "metadata": {},
   "outputs": [],
   "source": [
    "hrs_sum = df['Hours worked'].sum()\n",
    "kug_lsum = df['Kug lost hours'].sum()\n",
    "employer_sum = df['Employer'].sum()"
   ]
  },
  {
   "cell_type": "code",
   "execution_count": null,
   "metadata": {},
   "outputs": [],
   "source": [
    "\n"
   ]
  },
  {
   "cell_type": "code",
   "execution_count": null,
   "metadata": {},
   "outputs": [],
   "source": [
    "df['Hours worked']"
   ]
  },
  {
   "cell_type": "code",
   "execution_count": null,
   "metadata": {},
   "outputs": [],
   "source": [
    "df['Kug lost hours']"
   ]
  },
  {
   "cell_type": "code",
   "execution_count": null,
   "metadata": {},
   "outputs": [],
   "source": [
    "df['Employer'] "
   ]
  },
  {
   "cell_type": "code",
   "execution_count": null,
   "metadata": {},
   "outputs": [],
   "source": [
    "df.loc[df['Hours worked'].size - 1][6]"
   ]
  },
  {
   "cell_type": "code",
   "execution_count": null,
   "metadata": {},
   "outputs": [],
   "source": [
    "len(df)"
   ]
  },
  {
   "cell_type": "code",
   "execution_count": null,
   "metadata": {},
   "outputs": [],
   "source": [
    "# df.loc[df['Hours worked'].size - 1][6] = df['Hours worked'].sum()\n",
    "df.loc[[len(df)-1],'Hours worked'] = df['Hours worked'].sum()\n",
    "df.loc[[len(df)-1],'Kug lost hours'] = df['Kug lost hours'].sum()\n",
    "df.loc[[len(df)-1],'Employer'] = df['Employer'].sum()\n"
   ]
  },
  {
   "cell_type": "code",
   "execution_count": null,
   "metadata": {},
   "outputs": [],
   "source": [
    "df.loc[df['Hours worked'].size-1][6]"
   ]
  },
  {
   "cell_type": "code",
   "execution_count": null,
   "metadata": {},
   "outputs": [],
   "source": [
    "df.tail()"
   ]
  },
  {
   "cell_type": "code",
   "execution_count": null,
   "metadata": {},
   "outputs": [],
   "source": [
    "df['Hours worked'] = df['Hours worked'].map(lambda x: '%2.2f' % x)\n",
    "df['Kug lost hours'] = df['Kug lost hours'].map(lambda x: '%2.2f' % x)\n",
    "df['Employer'] = df['Employer'].map(lambda x: '%2.2f' % x)"
   ]
  },
  {
   "cell_type": "code",
   "execution_count": null,
   "metadata": {},
   "outputs": [],
   "source": [
    "df['Email'].hidden = False"
   ]
  },
  {
   "cell_type": "code",
   "execution_count": null,
   "metadata": {},
   "outputs": [],
   "source": []
  },
  {
   "cell_type": "code",
   "execution_count": null,
   "metadata": {},
   "outputs": [],
   "source": [
    "df.tail()"
   ]
  },
  {
   "cell_type": "code",
   "execution_count": null,
   "metadata": {},
   "outputs": [],
   "source": [
    "outFile = \"/home/l-8053/Downloads/snow/First_Name_Last_Name_50_May/copy/test.xlsx\""
   ]
  },
  {
   "cell_type": "code",
   "execution_count": null,
   "metadata": {},
   "outputs": [],
   "source": [
    "df.to_excel(outFile)"
   ]
  },
  {
   "cell_type": "code",
   "execution_count": null,
   "metadata": {},
   "outputs": [],
   "source": [
    "writer = pd.ExcelWriter(outFile, engine='xlsxwriter')\n",
    "df.to_excel(writer, index=False, sheet_name='report')\n",
    "workbook = writer.book\n",
    "worksheet = writer.sheets['report']\n",
    "# col_d = workbook.column_dimensions['Email']\n",
    "# col_d.hidden = False\n",
    "# Reduce the zoom a little\n",
    "# worksheet.set_zoom(90)\n",
    "worksheet.set_column('B:B', None, None, {'hidden': True})\n",
    "\n",
    "writer.save()"
   ]
  },
  {
   "cell_type": "code",
   "execution_count": null,
   "metadata": {},
   "outputs": [],
   "source": [
    "??worksheet.set_column"
   ]
  },
  {
   "cell_type": "code",
   "execution_count": null,
   "metadata": {},
   "outputs": [],
   "source": []
  }
 ],
 "metadata": {
  "kernelspec": {
   "display_name": "Python 3",
   "language": "python",
   "name": "python3"
  },
  "language_info": {
   "codemirror_mode": {
    "name": "ipython",
    "version": 3
   },
   "file_extension": ".py",
   "mimetype": "text/x-python",
   "name": "python",
   "nbconvert_exporter": "python",
   "pygments_lexer": "ipython3",
   "version": "3.6.9"
  }
 },
 "nbformat": 4,
 "nbformat_minor": 4
}
