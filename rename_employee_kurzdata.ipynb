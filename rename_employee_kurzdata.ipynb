{
 "cells": [
  {
   "cell_type": "code",
   "execution_count": 1,
   "metadata": {},
   "outputs": [],
   "source": [
    "import pandas as pd\n",
    "from pandas import ExcelWriter\n",
    "from pandas import ExcelFile\n",
    "import numpy as np"
   ]
  },
  {
   "cell_type": "code",
   "execution_count": 2,
   "metadata": {},
   "outputs": [],
   "source": [
    "def ReadFile(fl:str, path:str):\n",
    "    with open(fl) as f:\n",
    "        content = f.readlines()\n",
    "        # you may also want to remove whitespace characters like `\\n` at the end of each line\n",
    "        content = [path+x.strip() for x in content] \n",
    "    return content"
   ]
  },
  {
   "cell_type": "code",
   "execution_count": 152,
   "metadata": {},
   "outputs": [],
   "source": [
    "path = \"/home/l-8053/Downloads/snow/First_Name_Last_Name_50_May/copy/\"\n",
    "# path = \"/home/l-8053/Downloads/snow/80/\"\n",
    "filename = \"rename.txt\"\n",
    "rename = ReadFile(path+filename,path)"
   ]
  },
  {
   "cell_type": "code",
   "execution_count": 153,
   "metadata": {},
   "outputs": [
    {
     "data": {
      "text/plain": [
       "'/home/l-8053/Downloads/snow/First_Name_Last_Name_50_May/copy/10.xlsx'"
      ]
     },
     "execution_count": 153,
     "metadata": {},
     "output_type": "execute_result"
    }
   ],
   "source": [
    "rename[0]"
   ]
  },
  {
   "cell_type": "code",
   "execution_count": 154,
   "metadata": {},
   "outputs": [],
   "source": [
    "def saveFile(inputfile, prefix=\"50\\% - May\"):\n",
    "    df = pd.read_excel(inputfile)    \n",
    "    df.rename(columns={'Total hours': 'Hours worked'}, inplace=True)\n",
    "    df['Comment'] = df['Comment'].map({'public holiday':'public holiday (fiktives Kug)', 'paid vacation': 'paid vacation (100% Employer)'})\n",
    "    df.insert (7, \"Kug lost hours\", abs(df['Hours worked'] - 8))   \n",
    "    df.insert(8, \"Employer\", np.NaN)\n",
    "    df['Employer'][df['Hours worked'].isnull()] = 8 \n",
    "    # add a new row at the bottom\n",
    "    df = df.append(pd.Series(), ignore_index=True)\n",
    "    # add the sum\n",
    "    df.loc[[len(df)-1],'Hours worked'] = df['Hours worked'].sum()\n",
    "    df.loc[[len(df)-1],'Kug lost hours'] = df['Kug lost hours'].sum()\n",
    "    df.loc[[len(df)-1],'Employer'] = df['Employer'].sum()\n",
    "    df['Hours worked'] = df['Hours worked'].map(lambda x: '%2.2f' % x)\n",
    "    df['Kug lost hours'] = df['Kug lost hours'].map(lambda x: '%2.2f' % x)\n",
    "    df['Employer'] = df['Employer'].map(lambda x: '%2.2f' % x)\n",
    "    df = df.replace('nan','')\n",
    "#     df1 = df.replace('nan', '', regex=True)\n",
    "#     df[[\"Hours worked\", \"Kug lost hours\", \"Employer\"]] = df[[\"Hours worked\", \"Kug lost hours\", \"Employer\"]].apply(pd.to_numeric)\n",
    "    out_file = \"/tmp/tado/\"+df['Name'][0]+\" \"+prefix+\".xlsx\"\n",
    "    df.to_excel(out_file)\n",
    "    hideColumn(df,out_file)"
   ]
  },
  {
   "cell_type": "code",
   "execution_count": 155,
   "metadata": {},
   "outputs": [],
   "source": [
    "def hideColumn(df,outFile):\n",
    "    writer = pd.ExcelWriter(outFile, engine='xlsxwriter')\n",
    "    df.to_excel(writer, index=False, sheet_name='report')\n",
    "    workbook = writer.book\n",
    "    worksheet = writer.sheets['report']\n",
    "    worksheet.set_column('B:B', None, None, {'hidden': True})\n",
    "    writer.save()"
   ]
  },
  {
   "cell_type": "code",
   "execution_count": 149,
   "metadata": {},
   "outputs": [
    {
     "name": "stderr",
     "output_type": "stream",
     "text": [
      "/home/l-8053/py3/lib/python3.6/site-packages/ipykernel_launcher.py:7: SettingWithCopyWarning: \n",
      "A value is trying to be set on a copy of a slice from a DataFrame\n",
      "\n",
      "See the caveats in the documentation: https://pandas.pydata.org/pandas-docs/stable/user_guide/indexing.html#returning-a-view-versus-a-copy\n",
      "  import sys\n",
      "/home/l-8053/py3/lib/python3.6/site-packages/ipykernel_launcher.py:9: DeprecationWarning: The default dtype for empty Series will be 'object' instead of 'float64' in a future version. Specify a dtype explicitly to silence this warning.\n",
      "  if __name__ == '__main__':\n"
     ]
    }
   ],
   "source": [
    "saveFile(rename[0], prefix=\"80% - May\")   "
   ]
  },
  {
   "cell_type": "code",
   "execution_count": 156,
   "metadata": {},
   "outputs": [
    {
     "name": "stderr",
     "output_type": "stream",
     "text": [
      "/home/l-8053/py3/lib/python3.6/site-packages/ipykernel_launcher.py:7: SettingWithCopyWarning: \n",
      "A value is trying to be set on a copy of a slice from a DataFrame\n",
      "\n",
      "See the caveats in the documentation: https://pandas.pydata.org/pandas-docs/stable/user_guide/indexing.html#returning-a-view-versus-a-copy\n",
      "  import sys\n",
      "/home/l-8053/py3/lib/python3.6/site-packages/ipykernel_launcher.py:9: DeprecationWarning: The default dtype for empty Series will be 'object' instead of 'float64' in a future version. Specify a dtype explicitly to silence this warning.\n",
      "  if __name__ == '__main__':\n"
     ]
    }
   ],
   "source": [
    "prefix=\"50% - May\"\n",
    "# prefix=\"80% - May\"\n",
    "for f in rename:\n",
    "    saveFile(f,prefix=prefix)"
   ]
  },
  {
   "cell_type": "code",
   "execution_count": 102,
   "metadata": {},
   "outputs": [],
   "source": [
    "# df = pd.read_excel(\"/home/l-8053/Downloads/snow/First_Name_Last_Name_50_May/copy/10.xlsx\", sheet_name=None)\n",
    "df = pd.read_excel(rename[0])"
   ]
  },
  {
   "cell_type": "code",
   "execution_count": 103,
   "metadata": {},
   "outputs": [
    {
     "data": {
      "text/html": [
       "<div>\n",
       "<style scoped>\n",
       "    .dataframe tbody tr th:only-of-type {\n",
       "        vertical-align: middle;\n",
       "    }\n",
       "\n",
       "    .dataframe tbody tr th {\n",
       "        vertical-align: top;\n",
       "    }\n",
       "\n",
       "    .dataframe thead th {\n",
       "        text-align: right;\n",
       "    }\n",
       "</style>\n",
       "<table border=\"1\" class=\"dataframe\">\n",
       "  <thead>\n",
       "    <tr style=\"text-align: right;\">\n",
       "      <th></th>\n",
       "      <th>Name</th>\n",
       "      <th>Email</th>\n",
       "      <th>Day</th>\n",
       "      <th>Start</th>\n",
       "      <th>End</th>\n",
       "      <th>Break</th>\n",
       "      <th>Total hours</th>\n",
       "      <th>Comment</th>\n",
       "      <th>Status</th>\n",
       "    </tr>\n",
       "  </thead>\n",
       "  <tbody>\n",
       "    <tr>\n",
       "      <th>0</th>\n",
       "      <td>Lilia Baough</td>\n",
       "      <td>lilia.baough@tado.com</td>\n",
       "      <td>01.05.2020</td>\n",
       "      <td>0:00</td>\n",
       "      <td>0:00</td>\n",
       "      <td>0</td>\n",
       "      <td>NaN</td>\n",
       "      <td>public holiday</td>\n",
       "      <td>Confirmed</td>\n",
       "    </tr>\n",
       "    <tr>\n",
       "      <th>1</th>\n",
       "      <td>Lilia Baough</td>\n",
       "      <td>lilia.baough@tado.com</td>\n",
       "      <td>04.05.2020</td>\n",
       "      <td>9:00</td>\n",
       "      <td>13:00</td>\n",
       "      <td>0</td>\n",
       "      <td>4.0</td>\n",
       "      <td>NaN</td>\n",
       "      <td>Confirmed</td>\n",
       "    </tr>\n",
       "  </tbody>\n",
       "</table>\n",
       "</div>"
      ],
      "text/plain": [
       "           Name                  Email         Day Start    End  Break  \\\n",
       "0  Lilia Baough  lilia.baough@tado.com  01.05.2020  0:00   0:00      0   \n",
       "1  Lilia Baough  lilia.baough@tado.com  04.05.2020  9:00  13:00      0   \n",
       "\n",
       "   Total hours         Comment     Status  \n",
       "0          NaN  public holiday  Confirmed  \n",
       "1          4.0             NaN  Confirmed  "
      ]
     },
     "execution_count": 103,
     "metadata": {},
     "output_type": "execute_result"
    }
   ],
   "source": [
    "df.head(2)"
   ]
  },
  {
   "cell_type": "code",
   "execution_count": 104,
   "metadata": {},
   "outputs": [],
   "source": [
    "df.rename(columns={'Total hours': 'Hours worked'}, inplace=True)"
   ]
  },
  {
   "cell_type": "code",
   "execution_count": 105,
   "metadata": {},
   "outputs": [],
   "source": [
    "df.insert (7, \"Kug lost hours\", abs(df['Hours worked'] - 8))"
   ]
  },
  {
   "cell_type": "code",
   "execution_count": 106,
   "metadata": {},
   "outputs": [],
   "source": [
    "df.insert(8, \"Employer\", np.NaN)"
   ]
  },
  {
   "cell_type": "code",
   "execution_count": null,
   "metadata": {},
   "outputs": [],
   "source": []
  },
  {
   "cell_type": "code",
   "execution_count": 107,
   "metadata": {},
   "outputs": [
    {
     "data": {
      "text/plain": [
       "21"
      ]
     },
     "execution_count": 107,
     "metadata": {},
     "output_type": "execute_result"
    }
   ],
   "source": [
    "df['Hours worked'].size"
   ]
  },
  {
   "cell_type": "code",
   "execution_count": 108,
   "metadata": {},
   "outputs": [
    {
     "data": {
      "text/plain": [
       "21"
      ]
     },
     "execution_count": 108,
     "metadata": {},
     "output_type": "execute_result"
    }
   ],
   "source": [
    "len(df)"
   ]
  },
  {
   "cell_type": "code",
   "execution_count": 109,
   "metadata": {},
   "outputs": [
    {
     "name": "stderr",
     "output_type": "stream",
     "text": [
      "/home/l-8053/py3/lib/python3.6/site-packages/ipykernel_launcher.py:1: DeprecationWarning: The default dtype for empty Series will be 'object' instead of 'float64' in a future version. Specify a dtype explicitly to silence this warning.\n",
      "  \"\"\"Entry point for launching an IPython kernel.\n"
     ]
    }
   ],
   "source": [
    "df = df.append(pd.Series(), ignore_index=True)"
   ]
  },
  {
   "cell_type": "code",
   "execution_count": 110,
   "metadata": {},
   "outputs": [
    {
     "data": {
      "text/plain": [
       "22"
      ]
     },
     "execution_count": 110,
     "metadata": {},
     "output_type": "execute_result"
    }
   ],
   "source": [
    "df['Hours worked'].size"
   ]
  },
  {
   "cell_type": "code",
   "execution_count": 111,
   "metadata": {},
   "outputs": [
    {
     "data": {
      "text/html": [
       "<div>\n",
       "<style scoped>\n",
       "    .dataframe tbody tr th:only-of-type {\n",
       "        vertical-align: middle;\n",
       "    }\n",
       "\n",
       "    .dataframe tbody tr th {\n",
       "        vertical-align: top;\n",
       "    }\n",
       "\n",
       "    .dataframe thead th {\n",
       "        text-align: right;\n",
       "    }\n",
       "</style>\n",
       "<table border=\"1\" class=\"dataframe\">\n",
       "  <thead>\n",
       "    <tr style=\"text-align: right;\">\n",
       "      <th></th>\n",
       "      <th>Name</th>\n",
       "      <th>Email</th>\n",
       "      <th>Day</th>\n",
       "      <th>Start</th>\n",
       "      <th>End</th>\n",
       "      <th>Break</th>\n",
       "      <th>Hours worked</th>\n",
       "      <th>Kug lost hours</th>\n",
       "      <th>Employer</th>\n",
       "      <th>Comment</th>\n",
       "      <th>Status</th>\n",
       "    </tr>\n",
       "  </thead>\n",
       "  <tbody>\n",
       "    <tr>\n",
       "      <th>0</th>\n",
       "      <td>Lilia Baough</td>\n",
       "      <td>lilia.baough@tado.com</td>\n",
       "      <td>01.05.2020</td>\n",
       "      <td>0:00</td>\n",
       "      <td>0:00</td>\n",
       "      <td>0.0</td>\n",
       "      <td>NaN</td>\n",
       "      <td>NaN</td>\n",
       "      <td>NaN</td>\n",
       "      <td>public holiday</td>\n",
       "      <td>Confirmed</td>\n",
       "    </tr>\n",
       "    <tr>\n",
       "      <th>1</th>\n",
       "      <td>Lilia Baough</td>\n",
       "      <td>lilia.baough@tado.com</td>\n",
       "      <td>04.05.2020</td>\n",
       "      <td>9:00</td>\n",
       "      <td>13:00</td>\n",
       "      <td>0.0</td>\n",
       "      <td>4.0</td>\n",
       "      <td>4.0</td>\n",
       "      <td>NaN</td>\n",
       "      <td>NaN</td>\n",
       "      <td>Confirmed</td>\n",
       "    </tr>\n",
       "    <tr>\n",
       "      <th>2</th>\n",
       "      <td>Lilia Baough</td>\n",
       "      <td>lilia.baough@tado.com</td>\n",
       "      <td>05.05.2020</td>\n",
       "      <td>9:00</td>\n",
       "      <td>13:00</td>\n",
       "      <td>0.0</td>\n",
       "      <td>4.0</td>\n",
       "      <td>4.0</td>\n",
       "      <td>NaN</td>\n",
       "      <td>NaN</td>\n",
       "      <td>Confirmed</td>\n",
       "    </tr>\n",
       "  </tbody>\n",
       "</table>\n",
       "</div>"
      ],
      "text/plain": [
       "           Name                  Email         Day Start    End  Break  \\\n",
       "0  Lilia Baough  lilia.baough@tado.com  01.05.2020  0:00   0:00    0.0   \n",
       "1  Lilia Baough  lilia.baough@tado.com  04.05.2020  9:00  13:00    0.0   \n",
       "2  Lilia Baough  lilia.baough@tado.com  05.05.2020  9:00  13:00    0.0   \n",
       "\n",
       "   Hours worked  Kug lost hours  Employer         Comment     Status  \n",
       "0           NaN             NaN       NaN  public holiday  Confirmed  \n",
       "1           4.0             4.0       NaN             NaN  Confirmed  \n",
       "2           4.0             4.0       NaN             NaN  Confirmed  "
      ]
     },
     "execution_count": 111,
     "metadata": {},
     "output_type": "execute_result"
    }
   ],
   "source": [
    "df.head(3)"
   ]
  },
  {
   "cell_type": "code",
   "execution_count": 112,
   "metadata": {},
   "outputs": [
    {
     "name": "stderr",
     "output_type": "stream",
     "text": [
      "/home/l-8053/py3/lib/python3.6/site-packages/ipykernel_launcher.py:1: SettingWithCopyWarning: \n",
      "A value is trying to be set on a copy of a slice from a DataFrame\n",
      "\n",
      "See the caveats in the documentation: https://pandas.pydata.org/pandas-docs/stable/user_guide/indexing.html#returning-a-view-versus-a-copy\n",
      "  \"\"\"Entry point for launching an IPython kernel.\n"
     ]
    }
   ],
   "source": [
    "df['Employer'][df['Hours worked'].isnull()] = 8"
   ]
  },
  {
   "cell_type": "code",
   "execution_count": 113,
   "metadata": {},
   "outputs": [
    {
     "data": {
      "text/html": [
       "<div>\n",
       "<style scoped>\n",
       "    .dataframe tbody tr th:only-of-type {\n",
       "        vertical-align: middle;\n",
       "    }\n",
       "\n",
       "    .dataframe tbody tr th {\n",
       "        vertical-align: top;\n",
       "    }\n",
       "\n",
       "    .dataframe thead th {\n",
       "        text-align: right;\n",
       "    }\n",
       "</style>\n",
       "<table border=\"1\" class=\"dataframe\">\n",
       "  <thead>\n",
       "    <tr style=\"text-align: right;\">\n",
       "      <th></th>\n",
       "      <th>Name</th>\n",
       "      <th>Email</th>\n",
       "      <th>Day</th>\n",
       "      <th>Start</th>\n",
       "      <th>End</th>\n",
       "      <th>Break</th>\n",
       "      <th>Hours worked</th>\n",
       "      <th>Kug lost hours</th>\n",
       "      <th>Employer</th>\n",
       "      <th>Comment</th>\n",
       "      <th>Status</th>\n",
       "    </tr>\n",
       "  </thead>\n",
       "  <tbody>\n",
       "    <tr>\n",
       "      <th>0</th>\n",
       "      <td>Lilia Baough</td>\n",
       "      <td>lilia.baough@tado.com</td>\n",
       "      <td>01.05.2020</td>\n",
       "      <td>0:00</td>\n",
       "      <td>0:00</td>\n",
       "      <td>0.0</td>\n",
       "      <td>NaN</td>\n",
       "      <td>NaN</td>\n",
       "      <td>8.0</td>\n",
       "      <td>public holiday</td>\n",
       "      <td>Confirmed</td>\n",
       "    </tr>\n",
       "    <tr>\n",
       "      <th>1</th>\n",
       "      <td>Lilia Baough</td>\n",
       "      <td>lilia.baough@tado.com</td>\n",
       "      <td>04.05.2020</td>\n",
       "      <td>9:00</td>\n",
       "      <td>13:00</td>\n",
       "      <td>0.0</td>\n",
       "      <td>4.0</td>\n",
       "      <td>4.0</td>\n",
       "      <td>NaN</td>\n",
       "      <td>NaN</td>\n",
       "      <td>Confirmed</td>\n",
       "    </tr>\n",
       "    <tr>\n",
       "      <th>2</th>\n",
       "      <td>Lilia Baough</td>\n",
       "      <td>lilia.baough@tado.com</td>\n",
       "      <td>05.05.2020</td>\n",
       "      <td>9:00</td>\n",
       "      <td>13:00</td>\n",
       "      <td>0.0</td>\n",
       "      <td>4.0</td>\n",
       "      <td>4.0</td>\n",
       "      <td>NaN</td>\n",
       "      <td>NaN</td>\n",
       "      <td>Confirmed</td>\n",
       "    </tr>\n",
       "    <tr>\n",
       "      <th>3</th>\n",
       "      <td>Lilia Baough</td>\n",
       "      <td>lilia.baough@tado.com</td>\n",
       "      <td>06.05.2020</td>\n",
       "      <td>9:00</td>\n",
       "      <td>13:00</td>\n",
       "      <td>0.0</td>\n",
       "      <td>4.0</td>\n",
       "      <td>4.0</td>\n",
       "      <td>NaN</td>\n",
       "      <td>NaN</td>\n",
       "      <td>Confirmed</td>\n",
       "    </tr>\n",
       "    <tr>\n",
       "      <th>4</th>\n",
       "      <td>Lilia Baough</td>\n",
       "      <td>lilia.baough@tado.com</td>\n",
       "      <td>07.05.2020</td>\n",
       "      <td>9:00</td>\n",
       "      <td>13:00</td>\n",
       "      <td>0.0</td>\n",
       "      <td>4.0</td>\n",
       "      <td>4.0</td>\n",
       "      <td>NaN</td>\n",
       "      <td>NaN</td>\n",
       "      <td>Confirmed</td>\n",
       "    </tr>\n",
       "    <tr>\n",
       "      <th>5</th>\n",
       "      <td>Lilia Baough</td>\n",
       "      <td>lilia.baough@tado.com</td>\n",
       "      <td>08.05.2020</td>\n",
       "      <td>9:00</td>\n",
       "      <td>13:00</td>\n",
       "      <td>0.0</td>\n",
       "      <td>4.0</td>\n",
       "      <td>4.0</td>\n",
       "      <td>NaN</td>\n",
       "      <td>NaN</td>\n",
       "      <td>Confirmed</td>\n",
       "    </tr>\n",
       "    <tr>\n",
       "      <th>6</th>\n",
       "      <td>Lilia Baough</td>\n",
       "      <td>lilia.baough@tado.com</td>\n",
       "      <td>11.05.2020</td>\n",
       "      <td>9:00</td>\n",
       "      <td>13:00</td>\n",
       "      <td>0.0</td>\n",
       "      <td>4.0</td>\n",
       "      <td>4.0</td>\n",
       "      <td>NaN</td>\n",
       "      <td>NaN</td>\n",
       "      <td>Confirmed</td>\n",
       "    </tr>\n",
       "    <tr>\n",
       "      <th>7</th>\n",
       "      <td>Lilia Baough</td>\n",
       "      <td>lilia.baough@tado.com</td>\n",
       "      <td>12.05.2020</td>\n",
       "      <td>9:00</td>\n",
       "      <td>13:00</td>\n",
       "      <td>0.0</td>\n",
       "      <td>4.0</td>\n",
       "      <td>4.0</td>\n",
       "      <td>NaN</td>\n",
       "      <td>NaN</td>\n",
       "      <td>Confirmed</td>\n",
       "    </tr>\n",
       "    <tr>\n",
       "      <th>8</th>\n",
       "      <td>Lilia Baough</td>\n",
       "      <td>lilia.baough@tado.com</td>\n",
       "      <td>13.05.2020</td>\n",
       "      <td>9:00</td>\n",
       "      <td>13:00</td>\n",
       "      <td>0.0</td>\n",
       "      <td>4.0</td>\n",
       "      <td>4.0</td>\n",
       "      <td>NaN</td>\n",
       "      <td>NaN</td>\n",
       "      <td>Confirmed</td>\n",
       "    </tr>\n",
       "    <tr>\n",
       "      <th>9</th>\n",
       "      <td>Lilia Baough</td>\n",
       "      <td>lilia.baough@tado.com</td>\n",
       "      <td>14.05.2020</td>\n",
       "      <td>9:00</td>\n",
       "      <td>13:00</td>\n",
       "      <td>0.0</td>\n",
       "      <td>4.0</td>\n",
       "      <td>4.0</td>\n",
       "      <td>NaN</td>\n",
       "      <td>NaN</td>\n",
       "      <td>Confirmed</td>\n",
       "    </tr>\n",
       "  </tbody>\n",
       "</table>\n",
       "</div>"
      ],
      "text/plain": [
       "           Name                  Email         Day Start    End  Break  \\\n",
       "0  Lilia Baough  lilia.baough@tado.com  01.05.2020  0:00   0:00    0.0   \n",
       "1  Lilia Baough  lilia.baough@tado.com  04.05.2020  9:00  13:00    0.0   \n",
       "2  Lilia Baough  lilia.baough@tado.com  05.05.2020  9:00  13:00    0.0   \n",
       "3  Lilia Baough  lilia.baough@tado.com  06.05.2020  9:00  13:00    0.0   \n",
       "4  Lilia Baough  lilia.baough@tado.com  07.05.2020  9:00  13:00    0.0   \n",
       "5  Lilia Baough  lilia.baough@tado.com  08.05.2020  9:00  13:00    0.0   \n",
       "6  Lilia Baough  lilia.baough@tado.com  11.05.2020  9:00  13:00    0.0   \n",
       "7  Lilia Baough  lilia.baough@tado.com  12.05.2020  9:00  13:00    0.0   \n",
       "8  Lilia Baough  lilia.baough@tado.com  13.05.2020  9:00  13:00    0.0   \n",
       "9  Lilia Baough  lilia.baough@tado.com  14.05.2020  9:00  13:00    0.0   \n",
       "\n",
       "   Hours worked  Kug lost hours  Employer         Comment     Status  \n",
       "0           NaN             NaN       8.0  public holiday  Confirmed  \n",
       "1           4.0             4.0       NaN             NaN  Confirmed  \n",
       "2           4.0             4.0       NaN             NaN  Confirmed  \n",
       "3           4.0             4.0       NaN             NaN  Confirmed  \n",
       "4           4.0             4.0       NaN             NaN  Confirmed  \n",
       "5           4.0             4.0       NaN             NaN  Confirmed  \n",
       "6           4.0             4.0       NaN             NaN  Confirmed  \n",
       "7           4.0             4.0       NaN             NaN  Confirmed  \n",
       "8           4.0             4.0       NaN             NaN  Confirmed  \n",
       "9           4.0             4.0       NaN             NaN  Confirmed  "
      ]
     },
     "execution_count": 113,
     "metadata": {},
     "output_type": "execute_result"
    }
   ],
   "source": [
    "df.head(10)"
   ]
  },
  {
   "cell_type": "code",
   "execution_count": 114,
   "metadata": {},
   "outputs": [
    {
     "data": {
      "text/html": [
       "<div>\n",
       "<style scoped>\n",
       "    .dataframe tbody tr th:only-of-type {\n",
       "        vertical-align: middle;\n",
       "    }\n",
       "\n",
       "    .dataframe tbody tr th {\n",
       "        vertical-align: top;\n",
       "    }\n",
       "\n",
       "    .dataframe thead th {\n",
       "        text-align: right;\n",
       "    }\n",
       "</style>\n",
       "<table border=\"1\" class=\"dataframe\">\n",
       "  <thead>\n",
       "    <tr style=\"text-align: right;\">\n",
       "      <th></th>\n",
       "      <th>Name</th>\n",
       "      <th>Email</th>\n",
       "      <th>Day</th>\n",
       "      <th>Start</th>\n",
       "      <th>End</th>\n",
       "      <th>Break</th>\n",
       "      <th>Hours worked</th>\n",
       "      <th>Kug lost hours</th>\n",
       "      <th>Employer</th>\n",
       "      <th>Comment</th>\n",
       "      <th>Status</th>\n",
       "    </tr>\n",
       "  </thead>\n",
       "  <tbody>\n",
       "    <tr>\n",
       "      <th>0</th>\n",
       "      <td>Lilia Baough</td>\n",
       "      <td>lilia.baough@tado.com</td>\n",
       "      <td>01.05.2020</td>\n",
       "      <td>0:00</td>\n",
       "      <td>0:00</td>\n",
       "      <td>0.0</td>\n",
       "      <td>NaN</td>\n",
       "      <td>NaN</td>\n",
       "      <td>8.0</td>\n",
       "      <td>public holiday (fiktives Kug)</td>\n",
       "      <td>Confirmed</td>\n",
       "    </tr>\n",
       "    <tr>\n",
       "      <th>1</th>\n",
       "      <td>Lilia Baough</td>\n",
       "      <td>lilia.baough@tado.com</td>\n",
       "      <td>04.05.2020</td>\n",
       "      <td>9:00</td>\n",
       "      <td>13:00</td>\n",
       "      <td>0.0</td>\n",
       "      <td>4.0</td>\n",
       "      <td>4.0</td>\n",
       "      <td>NaN</td>\n",
       "      <td>NaN</td>\n",
       "      <td>Confirmed</td>\n",
       "    </tr>\n",
       "    <tr>\n",
       "      <th>2</th>\n",
       "      <td>Lilia Baough</td>\n",
       "      <td>lilia.baough@tado.com</td>\n",
       "      <td>05.05.2020</td>\n",
       "      <td>9:00</td>\n",
       "      <td>13:00</td>\n",
       "      <td>0.0</td>\n",
       "      <td>4.0</td>\n",
       "      <td>4.0</td>\n",
       "      <td>NaN</td>\n",
       "      <td>NaN</td>\n",
       "      <td>Confirmed</td>\n",
       "    </tr>\n",
       "    <tr>\n",
       "      <th>3</th>\n",
       "      <td>Lilia Baough</td>\n",
       "      <td>lilia.baough@tado.com</td>\n",
       "      <td>06.05.2020</td>\n",
       "      <td>9:00</td>\n",
       "      <td>13:00</td>\n",
       "      <td>0.0</td>\n",
       "      <td>4.0</td>\n",
       "      <td>4.0</td>\n",
       "      <td>NaN</td>\n",
       "      <td>NaN</td>\n",
       "      <td>Confirmed</td>\n",
       "    </tr>\n",
       "    <tr>\n",
       "      <th>4</th>\n",
       "      <td>Lilia Baough</td>\n",
       "      <td>lilia.baough@tado.com</td>\n",
       "      <td>07.05.2020</td>\n",
       "      <td>9:00</td>\n",
       "      <td>13:00</td>\n",
       "      <td>0.0</td>\n",
       "      <td>4.0</td>\n",
       "      <td>4.0</td>\n",
       "      <td>NaN</td>\n",
       "      <td>NaN</td>\n",
       "      <td>Confirmed</td>\n",
       "    </tr>\n",
       "  </tbody>\n",
       "</table>\n",
       "</div>"
      ],
      "text/plain": [
       "           Name                  Email         Day Start    End  Break  \\\n",
       "0  Lilia Baough  lilia.baough@tado.com  01.05.2020  0:00   0:00    0.0   \n",
       "1  Lilia Baough  lilia.baough@tado.com  04.05.2020  9:00  13:00    0.0   \n",
       "2  Lilia Baough  lilia.baough@tado.com  05.05.2020  9:00  13:00    0.0   \n",
       "3  Lilia Baough  lilia.baough@tado.com  06.05.2020  9:00  13:00    0.0   \n",
       "4  Lilia Baough  lilia.baough@tado.com  07.05.2020  9:00  13:00    0.0   \n",
       "\n",
       "   Hours worked  Kug lost hours  Employer                        Comment  \\\n",
       "0           NaN             NaN       8.0  public holiday (fiktives Kug)   \n",
       "1           4.0             4.0       NaN                            NaN   \n",
       "2           4.0             4.0       NaN                            NaN   \n",
       "3           4.0             4.0       NaN                            NaN   \n",
       "4           4.0             4.0       NaN                            NaN   \n",
       "\n",
       "      Status  \n",
       "0  Confirmed  \n",
       "1  Confirmed  \n",
       "2  Confirmed  \n",
       "3  Confirmed  \n",
       "4  Confirmed  "
      ]
     },
     "execution_count": 114,
     "metadata": {},
     "output_type": "execute_result"
    }
   ],
   "source": [
    "df['Comment'] = df['Comment'].map({'public holiday':'public holiday (fiktives Kug)', 'paid vacation': 'paid vacation (100% Employer)'})\n",
    "df.head()"
   ]
  },
  {
   "cell_type": "code",
   "execution_count": 116,
   "metadata": {},
   "outputs": [],
   "source": [
    "hrs_sum = df['Hours worked'].sum()\n",
    "kug_lsum = df['Kug lost hours'].sum()\n",
    "employer_sum = df['Employer'].sum()"
   ]
  },
  {
   "cell_type": "code",
   "execution_count": null,
   "metadata": {},
   "outputs": [],
   "source": [
    "\n"
   ]
  },
  {
   "cell_type": "code",
   "execution_count": 79,
   "metadata": {},
   "outputs": [],
   "source": [
    "df['Hours worked']"
   ]
  },
  {
   "cell_type": "code",
   "execution_count": 85,
   "metadata": {},
   "outputs": [],
   "source": [
    "df['Kug lost hours']"
   ]
  },
  {
   "cell_type": "code",
   "execution_count": 117,
   "metadata": {},
   "outputs": [
    {
     "data": {
      "text/plain": [
       "0     8.0\n",
       "1     NaN\n",
       "2     NaN\n",
       "3     NaN\n",
       "4     NaN\n",
       "5     NaN\n",
       "6     NaN\n",
       "7     NaN\n",
       "8     NaN\n",
       "9     NaN\n",
       "10    NaN\n",
       "11    NaN\n",
       "12    NaN\n",
       "13    NaN\n",
       "14    8.0\n",
       "15    8.0\n",
       "16    NaN\n",
       "17    NaN\n",
       "18    NaN\n",
       "19    NaN\n",
       "20    NaN\n",
       "21    8.0\n",
       "Name: Employer, dtype: float64"
      ]
     },
     "execution_count": 117,
     "metadata": {},
     "output_type": "execute_result"
    }
   ],
   "source": [
    "df['Employer'] "
   ]
  },
  {
   "cell_type": "code",
   "execution_count": 80,
   "metadata": {},
   "outputs": [
    {
     "data": {
      "text/plain": [
       "'nan'"
      ]
     },
     "execution_count": 80,
     "metadata": {},
     "output_type": "execute_result"
    }
   ],
   "source": [
    "df.loc[df['Hours worked'].size - 1][6]"
   ]
  },
  {
   "cell_type": "code",
   "execution_count": 81,
   "metadata": {},
   "outputs": [
    {
     "data": {
      "text/plain": [
       "22"
      ]
     },
     "execution_count": 81,
     "metadata": {},
     "output_type": "execute_result"
    }
   ],
   "source": [
    "len(df)"
   ]
  },
  {
   "cell_type": "code",
   "execution_count": 118,
   "metadata": {},
   "outputs": [],
   "source": [
    "# df.loc[df['Hours worked'].size - 1][6] = df['Hours worked'].sum()\n",
    "df.loc[[len(df)-1],'Hours worked'] = df['Hours worked'].sum()\n",
    "df.loc[[len(df)-1],'Kug lost hours'] = df['Kug lost hours'].sum()\n",
    "df.loc[[len(df)-1],'Employer'] = df['Employer'].sum()\n"
   ]
  },
  {
   "cell_type": "code",
   "execution_count": 119,
   "metadata": {},
   "outputs": [
    {
     "data": {
      "text/plain": [
       "72.0"
      ]
     },
     "execution_count": 119,
     "metadata": {},
     "output_type": "execute_result"
    }
   ],
   "source": [
    "df.loc[df['Hours worked'].size-1][6]"
   ]
  },
  {
   "cell_type": "code",
   "execution_count": 84,
   "metadata": {},
   "outputs": [],
   "source": [
    "df.tail()"
   ]
  },
  {
   "cell_type": "code",
   "execution_count": 120,
   "metadata": {},
   "outputs": [],
   "source": [
    "df['Hours worked'] = df['Hours worked'].map(lambda x: '%2.2f' % x)\n",
    "df['Kug lost hours'] = df['Kug lost hours'].map(lambda x: '%2.2f' % x)\n",
    "df['Employer'] = df['Employer'].map(lambda x: '%2.2f' % x)"
   ]
  },
  {
   "cell_type": "code",
   "execution_count": 121,
   "metadata": {},
   "outputs": [],
   "source": [
    "df['Email'].hidden = False"
   ]
  },
  {
   "cell_type": "code",
   "execution_count": null,
   "metadata": {},
   "outputs": [],
   "source": []
  },
  {
   "cell_type": "code",
   "execution_count": 123,
   "metadata": {},
   "outputs": [
    {
     "data": {
      "text/html": [
       "<div>\n",
       "<style scoped>\n",
       "    .dataframe tbody tr th:only-of-type {\n",
       "        vertical-align: middle;\n",
       "    }\n",
       "\n",
       "    .dataframe tbody tr th {\n",
       "        vertical-align: top;\n",
       "    }\n",
       "\n",
       "    .dataframe thead th {\n",
       "        text-align: right;\n",
       "    }\n",
       "</style>\n",
       "<table border=\"1\" class=\"dataframe\">\n",
       "  <thead>\n",
       "    <tr style=\"text-align: right;\">\n",
       "      <th></th>\n",
       "      <th>Name</th>\n",
       "      <th>Email</th>\n",
       "      <th>Day</th>\n",
       "      <th>Start</th>\n",
       "      <th>End</th>\n",
       "      <th>Break</th>\n",
       "      <th>Hours worked</th>\n",
       "      <th>Kug lost hours</th>\n",
       "      <th>Employer</th>\n",
       "      <th>Comment</th>\n",
       "      <th>Status</th>\n",
       "    </tr>\n",
       "  </thead>\n",
       "  <tbody>\n",
       "    <tr>\n",
       "      <th>17</th>\n",
       "      <td>Lilia Baough</td>\n",
       "      <td>lilia.baough@tado.com</td>\n",
       "      <td>26.05.2020</td>\n",
       "      <td>9:00</td>\n",
       "      <td>13:00</td>\n",
       "      <td>0.0</td>\n",
       "      <td>4.00</td>\n",
       "      <td>4.00</td>\n",
       "      <td>nan</td>\n",
       "      <td>NaN</td>\n",
       "      <td>Confirmed</td>\n",
       "    </tr>\n",
       "    <tr>\n",
       "      <th>18</th>\n",
       "      <td>Lilia Baough</td>\n",
       "      <td>lilia.baough@tado.com</td>\n",
       "      <td>27.05.2020</td>\n",
       "      <td>9:00</td>\n",
       "      <td>13:00</td>\n",
       "      <td>0.0</td>\n",
       "      <td>4.00</td>\n",
       "      <td>4.00</td>\n",
       "      <td>nan</td>\n",
       "      <td>NaN</td>\n",
       "      <td>Confirmed</td>\n",
       "    </tr>\n",
       "    <tr>\n",
       "      <th>19</th>\n",
       "      <td>Lilia Baough</td>\n",
       "      <td>lilia.baough@tado.com</td>\n",
       "      <td>28.05.2020</td>\n",
       "      <td>9:00</td>\n",
       "      <td>13:00</td>\n",
       "      <td>0.0</td>\n",
       "      <td>4.00</td>\n",
       "      <td>4.00</td>\n",
       "      <td>nan</td>\n",
       "      <td>NaN</td>\n",
       "      <td>Confirmed</td>\n",
       "    </tr>\n",
       "    <tr>\n",
       "      <th>20</th>\n",
       "      <td>Lilia Baough</td>\n",
       "      <td>lilia.baough@tado.com</td>\n",
       "      <td>29.05.2020</td>\n",
       "      <td>9:00</td>\n",
       "      <td>13:00</td>\n",
       "      <td>0.0</td>\n",
       "      <td>4.00</td>\n",
       "      <td>4.00</td>\n",
       "      <td>nan</td>\n",
       "      <td>NaN</td>\n",
       "      <td>Confirmed</td>\n",
       "    </tr>\n",
       "    <tr>\n",
       "      <th>21</th>\n",
       "      <td>NaN</td>\n",
       "      <td>NaN</td>\n",
       "      <td>NaN</td>\n",
       "      <td>NaN</td>\n",
       "      <td>NaN</td>\n",
       "      <td>NaN</td>\n",
       "      <td>72.00</td>\n",
       "      <td>72.00</td>\n",
       "      <td>32.00</td>\n",
       "      <td>NaN</td>\n",
       "      <td>NaN</td>\n",
       "    </tr>\n",
       "  </tbody>\n",
       "</table>\n",
       "</div>"
      ],
      "text/plain": [
       "            Name                  Email         Day Start    End  Break  \\\n",
       "17  Lilia Baough  lilia.baough@tado.com  26.05.2020  9:00  13:00    0.0   \n",
       "18  Lilia Baough  lilia.baough@tado.com  27.05.2020  9:00  13:00    0.0   \n",
       "19  Lilia Baough  lilia.baough@tado.com  28.05.2020  9:00  13:00    0.0   \n",
       "20  Lilia Baough  lilia.baough@tado.com  29.05.2020  9:00  13:00    0.0   \n",
       "21           NaN                    NaN         NaN   NaN    NaN    NaN   \n",
       "\n",
       "   Hours worked Kug lost hours Employer Comment     Status  \n",
       "17         4.00           4.00      nan     NaN  Confirmed  \n",
       "18         4.00           4.00      nan     NaN  Confirmed  \n",
       "19         4.00           4.00      nan     NaN  Confirmed  \n",
       "20         4.00           4.00      nan     NaN  Confirmed  \n",
       "21        72.00          72.00    32.00     NaN        NaN  "
      ]
     },
     "execution_count": 123,
     "metadata": {},
     "output_type": "execute_result"
    }
   ],
   "source": [
    "df.tail()"
   ]
  },
  {
   "cell_type": "code",
   "execution_count": 30,
   "metadata": {},
   "outputs": [],
   "source": [
    "outFile = \"/home/l-8053/Downloads/snow/First_Name_Last_Name_50_May/copy/test.xlsx\""
   ]
  },
  {
   "cell_type": "code",
   "execution_count": 31,
   "metadata": {},
   "outputs": [],
   "source": [
    "df.to_excel(outFile)"
   ]
  },
  {
   "cell_type": "code",
   "execution_count": 32,
   "metadata": {},
   "outputs": [],
   "source": [
    "writer = pd.ExcelWriter(outFile, engine='xlsxwriter')\n",
    "df.to_excel(writer, index=False, sheet_name='report')\n",
    "workbook = writer.book\n",
    "worksheet = writer.sheets['report']\n",
    "# col_d = workbook.column_dimensions['Email']\n",
    "# col_d.hidden = False\n",
    "# Reduce the zoom a little\n",
    "# worksheet.set_zoom(90)\n",
    "worksheet.set_column('B:B', None, None, {'hidden': True})\n",
    "\n",
    "writer.save()"
   ]
  },
  {
   "cell_type": "code",
   "execution_count": 33,
   "metadata": {},
   "outputs": [
    {
     "data": {
      "text/plain": [
       "\u001b[0;31mSignature:\u001b[0m \u001b[0mworksheet\u001b[0m\u001b[0;34m.\u001b[0m\u001b[0mset_column\u001b[0m\u001b[0;34m(\u001b[0m\u001b[0;34m*\u001b[0m\u001b[0margs\u001b[0m\u001b[0;34m,\u001b[0m \u001b[0;34m**\u001b[0m\u001b[0mkwargs\u001b[0m\u001b[0;34m)\u001b[0m\u001b[0;34m\u001b[0m\u001b[0;34m\u001b[0m\u001b[0m\n",
       "\u001b[0;31mDocstring:\u001b[0m <no docstring>\n",
       "\u001b[0;31mSource:\u001b[0m   \n",
       "    \u001b[0;32mdef\u001b[0m \u001b[0mcolumn_wrapper\u001b[0m\u001b[0;34m(\u001b[0m\u001b[0mself\u001b[0m\u001b[0;34m,\u001b[0m \u001b[0;34m*\u001b[0m\u001b[0margs\u001b[0m\u001b[0;34m,\u001b[0m \u001b[0;34m**\u001b[0m\u001b[0mkwargs\u001b[0m\u001b[0;34m)\u001b[0m\u001b[0;34m:\u001b[0m\u001b[0;34m\u001b[0m\n",
       "\u001b[0;34m\u001b[0m\u001b[0;34m\u001b[0m\n",
       "\u001b[0;34m\u001b[0m        \u001b[0;32mtry\u001b[0m\u001b[0;34m:\u001b[0m\u001b[0;34m\u001b[0m\n",
       "\u001b[0;34m\u001b[0m            \u001b[0;31m# First arg is an int, default to row/col notation.\u001b[0m\u001b[0;34m\u001b[0m\n",
       "\u001b[0;34m\u001b[0m            \u001b[0;32mif\u001b[0m \u001b[0mlen\u001b[0m\u001b[0;34m(\u001b[0m\u001b[0margs\u001b[0m\u001b[0;34m)\u001b[0m\u001b[0;34m:\u001b[0m\u001b[0;34m\u001b[0m\n",
       "\u001b[0;34m\u001b[0m                \u001b[0mint\u001b[0m\u001b[0;34m(\u001b[0m\u001b[0margs\u001b[0m\u001b[0;34m[\u001b[0m\u001b[0;36m0\u001b[0m\u001b[0;34m]\u001b[0m\u001b[0;34m)\u001b[0m\u001b[0;34m\u001b[0m\n",
       "\u001b[0;34m\u001b[0m        \u001b[0;32mexcept\u001b[0m \u001b[0mValueError\u001b[0m\u001b[0;34m:\u001b[0m\u001b[0;34m\u001b[0m\n",
       "\u001b[0;34m\u001b[0m            \u001b[0;31m# First arg isn't an int, convert to A1 notation.\u001b[0m\u001b[0;34m\u001b[0m\n",
       "\u001b[0;34m\u001b[0m            \u001b[0mcell_1\u001b[0m\u001b[0;34m,\u001b[0m \u001b[0mcell_2\u001b[0m \u001b[0;34m=\u001b[0m \u001b[0;34m[\u001b[0m\u001b[0mcol\u001b[0m \u001b[0;34m+\u001b[0m \u001b[0;34m'1'\u001b[0m \u001b[0;32mfor\u001b[0m \u001b[0mcol\u001b[0m \u001b[0;32min\u001b[0m \u001b[0margs\u001b[0m\u001b[0;34m[\u001b[0m\u001b[0;36m0\u001b[0m\u001b[0;34m]\u001b[0m\u001b[0;34m.\u001b[0m\u001b[0msplit\u001b[0m\u001b[0;34m(\u001b[0m\u001b[0;34m':'\u001b[0m\u001b[0;34m)\u001b[0m\u001b[0;34m]\u001b[0m\u001b[0;34m\u001b[0m\n",
       "\u001b[0;34m\u001b[0m            \u001b[0m_\u001b[0m\u001b[0;34m,\u001b[0m \u001b[0mcol_1\u001b[0m \u001b[0;34m=\u001b[0m \u001b[0mxl_cell_to_rowcol\u001b[0m\u001b[0;34m(\u001b[0m\u001b[0mcell_1\u001b[0m\u001b[0;34m)\u001b[0m\u001b[0;34m\u001b[0m\n",
       "\u001b[0;34m\u001b[0m            \u001b[0m_\u001b[0m\u001b[0;34m,\u001b[0m \u001b[0mcol_2\u001b[0m \u001b[0;34m=\u001b[0m \u001b[0mxl_cell_to_rowcol\u001b[0m\u001b[0;34m(\u001b[0m\u001b[0mcell_2\u001b[0m\u001b[0;34m)\u001b[0m\u001b[0;34m\u001b[0m\n",
       "\u001b[0;34m\u001b[0m            \u001b[0mnew_args\u001b[0m \u001b[0;34m=\u001b[0m \u001b[0;34m[\u001b[0m\u001b[0mcol_1\u001b[0m\u001b[0;34m,\u001b[0m \u001b[0mcol_2\u001b[0m\u001b[0;34m]\u001b[0m\u001b[0;34m\u001b[0m\n",
       "\u001b[0;34m\u001b[0m            \u001b[0mnew_args\u001b[0m\u001b[0;34m.\u001b[0m\u001b[0mextend\u001b[0m\u001b[0;34m(\u001b[0m\u001b[0margs\u001b[0m\u001b[0;34m[\u001b[0m\u001b[0;36m1\u001b[0m\u001b[0;34m:\u001b[0m\u001b[0;34m]\u001b[0m\u001b[0;34m)\u001b[0m\u001b[0;34m\u001b[0m\n",
       "\u001b[0;34m\u001b[0m            \u001b[0margs\u001b[0m \u001b[0;34m=\u001b[0m \u001b[0mnew_args\u001b[0m\u001b[0;34m\u001b[0m\n",
       "\u001b[0;34m\u001b[0m\u001b[0;34m\u001b[0m\n",
       "\u001b[0;34m\u001b[0m        \u001b[0;32mreturn\u001b[0m \u001b[0mmethod\u001b[0m\u001b[0;34m(\u001b[0m\u001b[0mself\u001b[0m\u001b[0;34m,\u001b[0m \u001b[0;34m*\u001b[0m\u001b[0margs\u001b[0m\u001b[0;34m,\u001b[0m \u001b[0;34m**\u001b[0m\u001b[0mkwargs\u001b[0m\u001b[0;34m)\u001b[0m\u001b[0;34m\u001b[0m\u001b[0;34m\u001b[0m\u001b[0m\n",
       "\u001b[0;31mFile:\u001b[0m      ~/py3/lib/python3.6/site-packages/xlsxwriter/worksheet.py\n",
       "\u001b[0;31mType:\u001b[0m      method\n"
      ]
     },
     "metadata": {},
     "output_type": "display_data"
    }
   ],
   "source": [
    "??worksheet.set_column"
   ]
  },
  {
   "cell_type": "code",
   "execution_count": null,
   "metadata": {},
   "outputs": [],
   "source": []
  }
 ],
 "metadata": {
  "kernelspec": {
   "display_name": "Python 3",
   "language": "python",
   "name": "python3"
  },
  "language_info": {
   "codemirror_mode": {
    "name": "ipython",
    "version": 3
   },
   "file_extension": ".py",
   "mimetype": "text/x-python",
   "name": "python",
   "nbconvert_exporter": "python",
   "pygments_lexer": "ipython3",
   "version": "3.6.9"
  }
 },
 "nbformat": 4,
 "nbformat_minor": 4
}
